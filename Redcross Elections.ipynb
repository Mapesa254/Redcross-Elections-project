{
 "cells": [
  {
   "cell_type": "code",
   "execution_count": 1,
   "id": "3e6c3035",
   "metadata": {},
   "outputs": [],
   "source": [
    "#Importing pandas library for the task\n",
    "import pandas as pd"
   ]
  },
  {
   "cell_type": "code",
   "execution_count": 2,
   "id": "063fb77b",
   "metadata": {},
   "outputs": [],
   "source": [
    "#Reading the required csv files onto the notebook as variables named\n",
    "responses = pd.read_csv('Redcross data//KCAU RedCross Ballot 2024 (Responses) - Form Responses 1.csv')\n",
    "reg_no = pd.read_csv('Redcross data//reg_no.csv')"
   ]
  },
  {
   "cell_type": "code",
   "execution_count": 3,
   "id": "e7cf578f",
   "metadata": {
    "scrolled": true
   },
   "outputs": [
    {
     "data": {
      "text/html": [
       "<div>\n",
       "<style scoped>\n",
       "    .dataframe tbody tr th:only-of-type {\n",
       "        vertical-align: middle;\n",
       "    }\n",
       "\n",
       "    .dataframe tbody tr th {\n",
       "        vertical-align: top;\n",
       "    }\n",
       "\n",
       "    .dataframe thead th {\n",
       "        text-align: right;\n",
       "    }\n",
       "</style>\n",
       "<table border=\"1\" class=\"dataframe\">\n",
       "  <thead>\n",
       "    <tr style=\"text-align: right;\">\n",
       "      <th></th>\n",
       "      <th>Timestamp</th>\n",
       "      <th>Registration No.</th>\n",
       "      <th>Chair-person</th>\n",
       "      <th>Deputy chair-person</th>\n",
       "      <th>Finance Secretary</th>\n",
       "      <th>Secretary</th>\n",
       "      <th>Chief First Aider</th>\n",
       "    </tr>\n",
       "  </thead>\n",
       "  <tbody>\n",
       "    <tr>\n",
       "      <th>0</th>\n",
       "      <td>6/13/2024 15:13:00</td>\n",
       "      <td>21/05213</td>\n",
       "      <td>William Odundo</td>\n",
       "      <td>BETTY KADZO</td>\n",
       "      <td>Gichigi Mary</td>\n",
       "      <td>Amaya Hellen Olesi</td>\n",
       "      <td>Joshua Onyango</td>\n",
       "    </tr>\n",
       "    <tr>\n",
       "      <th>1</th>\n",
       "      <td>6/13/2024 15:13:51</td>\n",
       "      <td>19/01428</td>\n",
       "      <td>William Odundo</td>\n",
       "      <td>Winscovia Mmbone</td>\n",
       "      <td>Gichigi Mary</td>\n",
       "      <td>Amaya Hellen Olesi</td>\n",
       "      <td>Joshua Onyango</td>\n",
       "    </tr>\n",
       "    <tr>\n",
       "      <th>2</th>\n",
       "      <td>6/13/2024 15:19:14</td>\n",
       "      <td>22/05032</td>\n",
       "      <td>William Odundo</td>\n",
       "      <td>BETTY KADZO</td>\n",
       "      <td>Marylyn Waihiga Mugo</td>\n",
       "      <td>Mercy Gitenya</td>\n",
       "      <td>Joshua Onyango</td>\n",
       "    </tr>\n",
       "    <tr>\n",
       "      <th>3</th>\n",
       "      <td>6/13/2024 15:21:46</td>\n",
       "      <td>23/03751</td>\n",
       "      <td>William Odundo</td>\n",
       "      <td>BETTY KADZO</td>\n",
       "      <td>Gichigi Mary</td>\n",
       "      <td>Amaya Hellen Olesi</td>\n",
       "      <td>Joshua Onyango</td>\n",
       "    </tr>\n",
       "    <tr>\n",
       "      <th>4</th>\n",
       "      <td>6/13/2024 15:24:03</td>\n",
       "      <td>23/06066</td>\n",
       "      <td>William Odundo</td>\n",
       "      <td>Winscovia Mmbone</td>\n",
       "      <td>Marylyn Waihiga Mugo</td>\n",
       "      <td>Amaya Hellen Olesi</td>\n",
       "      <td>Joshua Onyango</td>\n",
       "    </tr>\n",
       "    <tr>\n",
       "      <th>5</th>\n",
       "      <td>6/13/2024 15:32:09</td>\n",
       "      <td>22/08108</td>\n",
       "      <td>William Odundo</td>\n",
       "      <td>BETTY KADZO</td>\n",
       "      <td>Gichigi Mary</td>\n",
       "      <td>Mercy Gitenya</td>\n",
       "      <td>Joshua Onyango</td>\n",
       "    </tr>\n",
       "    <tr>\n",
       "      <th>6</th>\n",
       "      <td>6/13/2024 15:33:12</td>\n",
       "      <td>22/09127</td>\n",
       "      <td>William Odundo</td>\n",
       "      <td>BETTY KADZO</td>\n",
       "      <td>Gichigi Mary</td>\n",
       "      <td>Danielle Adhiambo</td>\n",
       "      <td>Joshua Onyango</td>\n",
       "    </tr>\n",
       "    <tr>\n",
       "      <th>7</th>\n",
       "      <td>6/13/2024 15:33:26</td>\n",
       "      <td>21/07051</td>\n",
       "      <td>William Odundo</td>\n",
       "      <td>BETTY KADZO</td>\n",
       "      <td>Gichigi Mary</td>\n",
       "      <td>Amaya Hellen Olesi</td>\n",
       "      <td>Joshua Onyango</td>\n",
       "    </tr>\n",
       "    <tr>\n",
       "      <th>8</th>\n",
       "      <td>6/13/2024 15:33:38</td>\n",
       "      <td>22/04778</td>\n",
       "      <td>William Odundo</td>\n",
       "      <td>BETTY KADZO</td>\n",
       "      <td>Marylyn Waihiga Mugo</td>\n",
       "      <td>Mercy Gitenya</td>\n",
       "      <td>Joshua Onyango</td>\n",
       "    </tr>\n",
       "    <tr>\n",
       "      <th>9</th>\n",
       "      <td>6/13/2024 15:35:20</td>\n",
       "      <td>23/07797</td>\n",
       "      <td>William Odundo</td>\n",
       "      <td>Winscovia Mmbone</td>\n",
       "      <td>Marylyn Waihiga Mugo</td>\n",
       "      <td>Amaya Hellen Olesi</td>\n",
       "      <td>Joshua Onyango</td>\n",
       "    </tr>\n",
       "    <tr>\n",
       "      <th>10</th>\n",
       "      <td>6/13/2024 15:39:08</td>\n",
       "      <td>22/06197</td>\n",
       "      <td>William Odundo</td>\n",
       "      <td>Winscovia Mmbone</td>\n",
       "      <td>Gichigi Mary</td>\n",
       "      <td>Amaya Hellen Olesi</td>\n",
       "      <td>Joshua Onyango</td>\n",
       "    </tr>\n",
       "    <tr>\n",
       "      <th>11</th>\n",
       "      <td>6/13/2024 15:39:08</td>\n",
       "      <td>22/06345</td>\n",
       "      <td>William Odundo</td>\n",
       "      <td>Winscovia Mmbone</td>\n",
       "      <td>Gichigi Mary</td>\n",
       "      <td>Amaya Hellen Olesi</td>\n",
       "      <td>Joshua Onyango</td>\n",
       "    </tr>\n",
       "    <tr>\n",
       "      <th>12</th>\n",
       "      <td>6/13/2024 15:39:50</td>\n",
       "      <td>21/03279</td>\n",
       "      <td>William Odundo</td>\n",
       "      <td>Winscovia Mmbone</td>\n",
       "      <td>Marylyn Waihiga Mugo</td>\n",
       "      <td>Danielle Adhiambo</td>\n",
       "      <td>Joshua Onyango</td>\n",
       "    </tr>\n",
       "    <tr>\n",
       "      <th>13</th>\n",
       "      <td>6/13/2024 15:45:56</td>\n",
       "      <td>23/04867</td>\n",
       "      <td>William Odundo</td>\n",
       "      <td>BETTY KADZO</td>\n",
       "      <td>Marylyn Waihiga Mugo</td>\n",
       "      <td>Danielle Adhiambo</td>\n",
       "      <td>Joshua Onyango</td>\n",
       "    </tr>\n",
       "    <tr>\n",
       "      <th>14</th>\n",
       "      <td>6/13/2024 15:51:39</td>\n",
       "      <td>22/08252</td>\n",
       "      <td>William Odundo</td>\n",
       "      <td>Winscovia Mmbone</td>\n",
       "      <td>Gichigi Mary</td>\n",
       "      <td>Amaya Hellen Olesi</td>\n",
       "      <td>Joshua Onyango</td>\n",
       "    </tr>\n",
       "    <tr>\n",
       "      <th>15</th>\n",
       "      <td>6/13/2024 15:55:08</td>\n",
       "      <td>23/07809</td>\n",
       "      <td>William Odundo</td>\n",
       "      <td>BETTY KADZO</td>\n",
       "      <td>Marylyn Waihiga Mugo</td>\n",
       "      <td>Danielle Adhiambo</td>\n",
       "      <td>Joshua Onyango</td>\n",
       "    </tr>\n",
       "    <tr>\n",
       "      <th>16</th>\n",
       "      <td>6/13/2024 15:56:04</td>\n",
       "      <td>23/06628</td>\n",
       "      <td>William Odundo</td>\n",
       "      <td>BETTY KADZO</td>\n",
       "      <td>Marylyn Waihiga Mugo</td>\n",
       "      <td>Danielle Adhiambo</td>\n",
       "      <td>Joshua Onyango</td>\n",
       "    </tr>\n",
       "    <tr>\n",
       "      <th>17</th>\n",
       "      <td>6/13/2024 15:56:19</td>\n",
       "      <td>20/03192</td>\n",
       "      <td>William Odundo</td>\n",
       "      <td>BETTY KADZO</td>\n",
       "      <td>Marylyn Waihiga Mugo</td>\n",
       "      <td>Mercy Gitenya</td>\n",
       "      <td>Joshua Onyango</td>\n",
       "    </tr>\n",
       "    <tr>\n",
       "      <th>18</th>\n",
       "      <td>6/13/2024 16:02:53</td>\n",
       "      <td>24/00559</td>\n",
       "      <td>William Odundo</td>\n",
       "      <td>BETTY KADZO</td>\n",
       "      <td>Gichigi Mary</td>\n",
       "      <td>Amaya Hellen Olesi</td>\n",
       "      <td>Joshua Onyango</td>\n",
       "    </tr>\n",
       "    <tr>\n",
       "      <th>19</th>\n",
       "      <td>6/13/2024 16:08:18</td>\n",
       "      <td>21/09015</td>\n",
       "      <td>William Odundo</td>\n",
       "      <td>BETTY KADZO</td>\n",
       "      <td>Gichigi Mary</td>\n",
       "      <td>Amaya Hellen Olesi</td>\n",
       "      <td>Joshua Onyango</td>\n",
       "    </tr>\n",
       "    <tr>\n",
       "      <th>20</th>\n",
       "      <td>6/13/2024 16:11:00</td>\n",
       "      <td>20/04761</td>\n",
       "      <td>William Odundo</td>\n",
       "      <td>BETTY KADZO</td>\n",
       "      <td>Marylyn Waihiga Mugo</td>\n",
       "      <td>Amaya Hellen Olesi</td>\n",
       "      <td>Joshua Onyango</td>\n",
       "    </tr>\n",
       "    <tr>\n",
       "      <th>21</th>\n",
       "      <td>6/13/2024 16:12:03</td>\n",
       "      <td>21/04864</td>\n",
       "      <td>William Odundo</td>\n",
       "      <td>BETTY KADZO</td>\n",
       "      <td>Marylyn Waihiga Mugo</td>\n",
       "      <td>Amaya Hellen Olesi</td>\n",
       "      <td>Joshua Onyango</td>\n",
       "    </tr>\n",
       "    <tr>\n",
       "      <th>22</th>\n",
       "      <td>6/13/2024 16:18:50</td>\n",
       "      <td>23/06664</td>\n",
       "      <td>William Odundo</td>\n",
       "      <td>BETTY KADZO</td>\n",
       "      <td>Gichigi Mary</td>\n",
       "      <td>Amaya Hellen Olesi</td>\n",
       "      <td>Joshua Onyango</td>\n",
       "    </tr>\n",
       "    <tr>\n",
       "      <th>23</th>\n",
       "      <td>6/13/2024 16:21:44</td>\n",
       "      <td>23/01912</td>\n",
       "      <td>William Odundo</td>\n",
       "      <td>BETTY KADZO</td>\n",
       "      <td>Marylyn Waihiga Mugo</td>\n",
       "      <td>Danielle Adhiambo</td>\n",
       "      <td>Joshua Onyango</td>\n",
       "    </tr>\n",
       "    <tr>\n",
       "      <th>24</th>\n",
       "      <td>6/13/2024 16:23:28</td>\n",
       "      <td>22/01233</td>\n",
       "      <td>William Odundo</td>\n",
       "      <td>BETTY KADZO</td>\n",
       "      <td>Gichigi Mary</td>\n",
       "      <td>Danielle Adhiambo</td>\n",
       "      <td>Joshua Onyango</td>\n",
       "    </tr>\n",
       "    <tr>\n",
       "      <th>25</th>\n",
       "      <td>6/13/2024 16:46:40</td>\n",
       "      <td>21/06835</td>\n",
       "      <td>William Odundo</td>\n",
       "      <td>BETTY KADZO</td>\n",
       "      <td>Marylyn Waihiga Mugo</td>\n",
       "      <td>Amaya Hellen Olesi</td>\n",
       "      <td>Joshua Onyango</td>\n",
       "    </tr>\n",
       "    <tr>\n",
       "      <th>26</th>\n",
       "      <td>6/13/2024 16:54:28</td>\n",
       "      <td>21/06270</td>\n",
       "      <td>William Odundo</td>\n",
       "      <td>Winscovia Mmbone</td>\n",
       "      <td>Gichigi Mary</td>\n",
       "      <td>Danielle Adhiambo</td>\n",
       "      <td>Joshua Onyango</td>\n",
       "    </tr>\n",
       "    <tr>\n",
       "      <th>27</th>\n",
       "      <td>6/13/2024 17:02:35</td>\n",
       "      <td>22/04299</td>\n",
       "      <td>William Odundo</td>\n",
       "      <td>BETTY KADZO</td>\n",
       "      <td>Marylyn Waihiga Mugo</td>\n",
       "      <td>Mercy Gitenya</td>\n",
       "      <td>Joshua Onyango</td>\n",
       "    </tr>\n",
       "    <tr>\n",
       "      <th>28</th>\n",
       "      <td>6/13/2024 17:41:26</td>\n",
       "      <td>21/08614</td>\n",
       "      <td>William Odundo</td>\n",
       "      <td>Winscovia Mmbone</td>\n",
       "      <td>Marylyn Waihiga Mugo</td>\n",
       "      <td>Danielle Adhiambo</td>\n",
       "      <td>Joshua Onyango</td>\n",
       "    </tr>\n",
       "    <tr>\n",
       "      <th>29</th>\n",
       "      <td>6/13/2024 17:52:22</td>\n",
       "      <td>21/05649</td>\n",
       "      <td>William Odundo</td>\n",
       "      <td>BETTY KADZO</td>\n",
       "      <td>Gichigi Mary</td>\n",
       "      <td>Danielle Adhiambo</td>\n",
       "      <td>Joshua Onyango</td>\n",
       "    </tr>\n",
       "    <tr>\n",
       "      <th>30</th>\n",
       "      <td>6/13/2024 19:44:13</td>\n",
       "      <td>22/08970</td>\n",
       "      <td>William Odundo</td>\n",
       "      <td>BETTY KADZO</td>\n",
       "      <td>Marylyn Waihiga Mugo</td>\n",
       "      <td>Danielle Adhiambo</td>\n",
       "      <td>Joshua Onyango</td>\n",
       "    </tr>\n",
       "    <tr>\n",
       "      <th>31</th>\n",
       "      <td>6/13/2024 19:56:09</td>\n",
       "      <td>21/07230</td>\n",
       "      <td>William Odundo</td>\n",
       "      <td>BETTY KADZO</td>\n",
       "      <td>Gichigi Mary</td>\n",
       "      <td>Amaya Hellen Olesi</td>\n",
       "      <td>Joshua Onyango</td>\n",
       "    </tr>\n",
       "    <tr>\n",
       "      <th>32</th>\n",
       "      <td>6/13/2024 20:05:08</td>\n",
       "      <td>20/04439</td>\n",
       "      <td>William Odundo</td>\n",
       "      <td>Winscovia Mmbone</td>\n",
       "      <td>Gichigi Mary</td>\n",
       "      <td>Amaya Hellen Olesi</td>\n",
       "      <td>Joshua Onyango</td>\n",
       "    </tr>\n",
       "    <tr>\n",
       "      <th>33</th>\n",
       "      <td>6/13/2024 20:11:44</td>\n",
       "      <td>24/01063</td>\n",
       "      <td>William Odundo</td>\n",
       "      <td>BETTY KADZO</td>\n",
       "      <td>Gichigi Mary</td>\n",
       "      <td>Mercy Gitenya</td>\n",
       "      <td>Joshua Onyango</td>\n",
       "    </tr>\n",
       "    <tr>\n",
       "      <th>34</th>\n",
       "      <td>6/13/2024 20:49:28</td>\n",
       "      <td>22/07756</td>\n",
       "      <td>William Odundo</td>\n",
       "      <td>Winscovia Mmbone</td>\n",
       "      <td>Marylyn Waihiga Mugo</td>\n",
       "      <td>Danielle Adhiambo</td>\n",
       "      <td>Joshua Onyango</td>\n",
       "    </tr>\n",
       "    <tr>\n",
       "      <th>35</th>\n",
       "      <td>6/13/2024 20:55:36</td>\n",
       "      <td>21/07604</td>\n",
       "      <td>William Odundo</td>\n",
       "      <td>Winscovia Mmbone</td>\n",
       "      <td>Gichigi Mary</td>\n",
       "      <td>Amaya Hellen Olesi</td>\n",
       "      <td>Joshua Onyango</td>\n",
       "    </tr>\n",
       "    <tr>\n",
       "      <th>36</th>\n",
       "      <td>6/13/2024 21:07:38</td>\n",
       "      <td>22/08697</td>\n",
       "      <td>William Odundo</td>\n",
       "      <td>Winscovia Mmbone</td>\n",
       "      <td>Marylyn Waihiga Mugo</td>\n",
       "      <td>Amaya Hellen Olesi</td>\n",
       "      <td>Joshua Onyango</td>\n",
       "    </tr>\n",
       "    <tr>\n",
       "      <th>37</th>\n",
       "      <td>6/13/2024 21:28:27</td>\n",
       "      <td>22/08560</td>\n",
       "      <td>William Odundo</td>\n",
       "      <td>Winscovia Mmbone</td>\n",
       "      <td>Marylyn Waihiga Mugo</td>\n",
       "      <td>Danielle Adhiambo</td>\n",
       "      <td>Joshua Onyango</td>\n",
       "    </tr>\n",
       "    <tr>\n",
       "      <th>38</th>\n",
       "      <td>6/13/2024 22:00:09</td>\n",
       "      <td>22/06372</td>\n",
       "      <td>William Odundo</td>\n",
       "      <td>Winscovia Mmbone</td>\n",
       "      <td>Gichigi Mary</td>\n",
       "      <td>Amaya Hellen Olesi</td>\n",
       "      <td>Joshua Onyango</td>\n",
       "    </tr>\n",
       "    <tr>\n",
       "      <th>39</th>\n",
       "      <td>6/13/2024 22:09:50</td>\n",
       "      <td>24/01097</td>\n",
       "      <td>William Odundo</td>\n",
       "      <td>BETTY KADZO</td>\n",
       "      <td>Gichigi Mary</td>\n",
       "      <td>Mercy Gitenya</td>\n",
       "      <td>Joshua Onyango</td>\n",
       "    </tr>\n",
       "    <tr>\n",
       "      <th>40</th>\n",
       "      <td>6/13/2024 22:25:41</td>\n",
       "      <td>23/04946</td>\n",
       "      <td>William Odundo</td>\n",
       "      <td>BETTY KADZO</td>\n",
       "      <td>Marylyn Waihiga Mugo</td>\n",
       "      <td>Amaya Hellen Olesi</td>\n",
       "      <td>Joshua Onyango</td>\n",
       "    </tr>\n",
       "    <tr>\n",
       "      <th>41</th>\n",
       "      <td>6/13/2024 22:44:03</td>\n",
       "      <td>24/00370</td>\n",
       "      <td>William Odundo</td>\n",
       "      <td>Winscovia Mmbone</td>\n",
       "      <td>Gichigi Mary</td>\n",
       "      <td>Amaya Hellen Olesi</td>\n",
       "      <td>Joshua Onyango</td>\n",
       "    </tr>\n",
       "    <tr>\n",
       "      <th>42</th>\n",
       "      <td>6/13/2024 22:47:24</td>\n",
       "      <td>22/04567</td>\n",
       "      <td>William Odundo</td>\n",
       "      <td>Winscovia Mmbone</td>\n",
       "      <td>Marylyn Waihiga Mugo</td>\n",
       "      <td>Mercy Gitenya</td>\n",
       "      <td>Joshua Onyango</td>\n",
       "    </tr>\n",
       "  </tbody>\n",
       "</table>\n",
       "</div>"
      ],
      "text/plain": [
       "             Timestamp Registration No.    Chair-person Deputy chair-person  \\\n",
       "0   6/13/2024 15:13:00         21/05213  William Odundo         BETTY KADZO   \n",
       "1   6/13/2024 15:13:51         19/01428  William Odundo    Winscovia Mmbone   \n",
       "2   6/13/2024 15:19:14         22/05032  William Odundo         BETTY KADZO   \n",
       "3   6/13/2024 15:21:46         23/03751  William Odundo         BETTY KADZO   \n",
       "4   6/13/2024 15:24:03         23/06066  William Odundo    Winscovia Mmbone   \n",
       "5   6/13/2024 15:32:09         22/08108  William Odundo         BETTY KADZO   \n",
       "6   6/13/2024 15:33:12         22/09127  William Odundo         BETTY KADZO   \n",
       "7   6/13/2024 15:33:26         21/07051  William Odundo         BETTY KADZO   \n",
       "8   6/13/2024 15:33:38         22/04778  William Odundo         BETTY KADZO   \n",
       "9   6/13/2024 15:35:20         23/07797  William Odundo    Winscovia Mmbone   \n",
       "10  6/13/2024 15:39:08         22/06197  William Odundo    Winscovia Mmbone   \n",
       "11  6/13/2024 15:39:08         22/06345  William Odundo    Winscovia Mmbone   \n",
       "12  6/13/2024 15:39:50         21/03279  William Odundo    Winscovia Mmbone   \n",
       "13  6/13/2024 15:45:56         23/04867  William Odundo         BETTY KADZO   \n",
       "14  6/13/2024 15:51:39         22/08252  William Odundo    Winscovia Mmbone   \n",
       "15  6/13/2024 15:55:08         23/07809  William Odundo         BETTY KADZO   \n",
       "16  6/13/2024 15:56:04         23/06628  William Odundo         BETTY KADZO   \n",
       "17  6/13/2024 15:56:19         20/03192  William Odundo         BETTY KADZO   \n",
       "18  6/13/2024 16:02:53         24/00559  William Odundo         BETTY KADZO   \n",
       "19  6/13/2024 16:08:18         21/09015  William Odundo         BETTY KADZO   \n",
       "20  6/13/2024 16:11:00         20/04761  William Odundo         BETTY KADZO   \n",
       "21  6/13/2024 16:12:03         21/04864  William Odundo         BETTY KADZO   \n",
       "22  6/13/2024 16:18:50         23/06664  William Odundo         BETTY KADZO   \n",
       "23  6/13/2024 16:21:44         23/01912  William Odundo         BETTY KADZO   \n",
       "24  6/13/2024 16:23:28         22/01233  William Odundo         BETTY KADZO   \n",
       "25  6/13/2024 16:46:40         21/06835  William Odundo         BETTY KADZO   \n",
       "26  6/13/2024 16:54:28         21/06270  William Odundo    Winscovia Mmbone   \n",
       "27  6/13/2024 17:02:35         22/04299  William Odundo         BETTY KADZO   \n",
       "28  6/13/2024 17:41:26         21/08614  William Odundo    Winscovia Mmbone   \n",
       "29  6/13/2024 17:52:22         21/05649  William Odundo         BETTY KADZO   \n",
       "30  6/13/2024 19:44:13         22/08970  William Odundo         BETTY KADZO   \n",
       "31  6/13/2024 19:56:09         21/07230  William Odundo         BETTY KADZO   \n",
       "32  6/13/2024 20:05:08         20/04439  William Odundo    Winscovia Mmbone   \n",
       "33  6/13/2024 20:11:44         24/01063  William Odundo         BETTY KADZO   \n",
       "34  6/13/2024 20:49:28         22/07756  William Odundo    Winscovia Mmbone   \n",
       "35  6/13/2024 20:55:36         21/07604  William Odundo    Winscovia Mmbone   \n",
       "36  6/13/2024 21:07:38         22/08697  William Odundo    Winscovia Mmbone   \n",
       "37  6/13/2024 21:28:27         22/08560  William Odundo    Winscovia Mmbone   \n",
       "38  6/13/2024 22:00:09        22/06372   William Odundo    Winscovia Mmbone   \n",
       "39  6/13/2024 22:09:50         24/01097  William Odundo         BETTY KADZO   \n",
       "40  6/13/2024 22:25:41         23/04946  William Odundo         BETTY KADZO   \n",
       "41  6/13/2024 22:44:03         24/00370  William Odundo    Winscovia Mmbone   \n",
       "42  6/13/2024 22:47:24        22/04567   William Odundo    Winscovia Mmbone   \n",
       "\n",
       "       Finance Secretary           Secretary Chief First Aider  \n",
       "0           Gichigi Mary  Amaya Hellen Olesi    Joshua Onyango  \n",
       "1           Gichigi Mary  Amaya Hellen Olesi    Joshua Onyango  \n",
       "2   Marylyn Waihiga Mugo       Mercy Gitenya    Joshua Onyango  \n",
       "3           Gichigi Mary  Amaya Hellen Olesi    Joshua Onyango  \n",
       "4   Marylyn Waihiga Mugo  Amaya Hellen Olesi    Joshua Onyango  \n",
       "5           Gichigi Mary       Mercy Gitenya    Joshua Onyango  \n",
       "6           Gichigi Mary   Danielle Adhiambo    Joshua Onyango  \n",
       "7           Gichigi Mary  Amaya Hellen Olesi    Joshua Onyango  \n",
       "8   Marylyn Waihiga Mugo       Mercy Gitenya    Joshua Onyango  \n",
       "9   Marylyn Waihiga Mugo  Amaya Hellen Olesi    Joshua Onyango  \n",
       "10          Gichigi Mary  Amaya Hellen Olesi    Joshua Onyango  \n",
       "11          Gichigi Mary  Amaya Hellen Olesi    Joshua Onyango  \n",
       "12  Marylyn Waihiga Mugo   Danielle Adhiambo    Joshua Onyango  \n",
       "13  Marylyn Waihiga Mugo   Danielle Adhiambo    Joshua Onyango  \n",
       "14          Gichigi Mary  Amaya Hellen Olesi    Joshua Onyango  \n",
       "15  Marylyn Waihiga Mugo   Danielle Adhiambo    Joshua Onyango  \n",
       "16  Marylyn Waihiga Mugo   Danielle Adhiambo    Joshua Onyango  \n",
       "17  Marylyn Waihiga Mugo       Mercy Gitenya    Joshua Onyango  \n",
       "18          Gichigi Mary  Amaya Hellen Olesi    Joshua Onyango  \n",
       "19          Gichigi Mary  Amaya Hellen Olesi    Joshua Onyango  \n",
       "20  Marylyn Waihiga Mugo  Amaya Hellen Olesi    Joshua Onyango  \n",
       "21  Marylyn Waihiga Mugo  Amaya Hellen Olesi    Joshua Onyango  \n",
       "22          Gichigi Mary  Amaya Hellen Olesi    Joshua Onyango  \n",
       "23  Marylyn Waihiga Mugo   Danielle Adhiambo    Joshua Onyango  \n",
       "24          Gichigi Mary   Danielle Adhiambo    Joshua Onyango  \n",
       "25  Marylyn Waihiga Mugo  Amaya Hellen Olesi    Joshua Onyango  \n",
       "26          Gichigi Mary   Danielle Adhiambo    Joshua Onyango  \n",
       "27  Marylyn Waihiga Mugo       Mercy Gitenya    Joshua Onyango  \n",
       "28  Marylyn Waihiga Mugo   Danielle Adhiambo    Joshua Onyango  \n",
       "29          Gichigi Mary   Danielle Adhiambo    Joshua Onyango  \n",
       "30  Marylyn Waihiga Mugo   Danielle Adhiambo    Joshua Onyango  \n",
       "31          Gichigi Mary  Amaya Hellen Olesi    Joshua Onyango  \n",
       "32          Gichigi Mary  Amaya Hellen Olesi    Joshua Onyango  \n",
       "33          Gichigi Mary       Mercy Gitenya    Joshua Onyango  \n",
       "34  Marylyn Waihiga Mugo   Danielle Adhiambo    Joshua Onyango  \n",
       "35          Gichigi Mary  Amaya Hellen Olesi    Joshua Onyango  \n",
       "36  Marylyn Waihiga Mugo  Amaya Hellen Olesi    Joshua Onyango  \n",
       "37  Marylyn Waihiga Mugo   Danielle Adhiambo    Joshua Onyango  \n",
       "38          Gichigi Mary  Amaya Hellen Olesi    Joshua Onyango  \n",
       "39          Gichigi Mary       Mercy Gitenya    Joshua Onyango  \n",
       "40  Marylyn Waihiga Mugo  Amaya Hellen Olesi    Joshua Onyango  \n",
       "41          Gichigi Mary  Amaya Hellen Olesi    Joshua Onyango  \n",
       "42  Marylyn Waihiga Mugo       Mercy Gitenya    Joshua Onyango  "
      ]
     },
     "execution_count": 3,
     "metadata": {},
     "output_type": "execute_result"
    }
   ],
   "source": [
    "#Viewing the reponses variable\n",
    "responses"
   ]
  },
  {
   "cell_type": "code",
   "execution_count": 4,
   "id": "30ac0777",
   "metadata": {},
   "outputs": [
    {
     "data": {
      "text/html": [
       "<div>\n",
       "<style scoped>\n",
       "    .dataframe tbody tr th:only-of-type {\n",
       "        vertical-align: middle;\n",
       "    }\n",
       "\n",
       "    .dataframe tbody tr th {\n",
       "        vertical-align: top;\n",
       "    }\n",
       "\n",
       "    .dataframe thead th {\n",
       "        text-align: right;\n",
       "    }\n",
       "</style>\n",
       "<table border=\"1\" class=\"dataframe\">\n",
       "  <thead>\n",
       "    <tr style=\"text-align: right;\">\n",
       "      <th></th>\n",
       "      <th>school_reg</th>\n",
       "    </tr>\n",
       "  </thead>\n",
       "  <tbody>\n",
       "    <tr>\n",
       "      <th>0</th>\n",
       "      <td>20/04439</td>\n",
       "    </tr>\n",
       "    <tr>\n",
       "      <th>1</th>\n",
       "      <td>21/07051</td>\n",
       "    </tr>\n",
       "    <tr>\n",
       "      <th>2</th>\n",
       "      <td>19/01428</td>\n",
       "    </tr>\n",
       "    <tr>\n",
       "      <th>3</th>\n",
       "      <td>22/06609</td>\n",
       "    </tr>\n",
       "    <tr>\n",
       "      <th>4</th>\n",
       "      <td>22/08697</td>\n",
       "    </tr>\n",
       "    <tr>\n",
       "      <th>5</th>\n",
       "      <td>20/03192</td>\n",
       "    </tr>\n",
       "    <tr>\n",
       "      <th>6</th>\n",
       "      <td>23/06628</td>\n",
       "    </tr>\n",
       "    <tr>\n",
       "      <th>7</th>\n",
       "      <td>23/06664</td>\n",
       "    </tr>\n",
       "    <tr>\n",
       "      <th>8</th>\n",
       "      <td>23/04867</td>\n",
       "    </tr>\n",
       "    <tr>\n",
       "      <th>9</th>\n",
       "      <td>21/06270</td>\n",
       "    </tr>\n",
       "    <tr>\n",
       "      <th>10</th>\n",
       "      <td>20/04761</td>\n",
       "    </tr>\n",
       "    <tr>\n",
       "      <th>11</th>\n",
       "      <td>23/05051</td>\n",
       "    </tr>\n",
       "    <tr>\n",
       "      <th>12</th>\n",
       "      <td>21/08614</td>\n",
       "    </tr>\n",
       "    <tr>\n",
       "      <th>13</th>\n",
       "      <td>22/04567</td>\n",
       "    </tr>\n",
       "    <tr>\n",
       "      <th>14</th>\n",
       "      <td>21/05213</td>\n",
       "    </tr>\n",
       "    <tr>\n",
       "      <th>15</th>\n",
       "      <td>21/07230</td>\n",
       "    </tr>\n",
       "    <tr>\n",
       "      <th>16</th>\n",
       "      <td>23/07328</td>\n",
       "    </tr>\n",
       "    <tr>\n",
       "      <th>17</th>\n",
       "      <td>22/06372</td>\n",
       "    </tr>\n",
       "    <tr>\n",
       "      <th>18</th>\n",
       "      <td>22/04778</td>\n",
       "    </tr>\n",
       "    <tr>\n",
       "      <th>19</th>\n",
       "      <td>23/07809</td>\n",
       "    </tr>\n",
       "    <tr>\n",
       "      <th>20</th>\n",
       "      <td>21/06835</td>\n",
       "    </tr>\n",
       "    <tr>\n",
       "      <th>21</th>\n",
       "      <td>22/06197</td>\n",
       "    </tr>\n",
       "    <tr>\n",
       "      <th>22</th>\n",
       "      <td>22/08560</td>\n",
       "    </tr>\n",
       "    <tr>\n",
       "      <th>23</th>\n",
       "      <td>21/07604</td>\n",
       "    </tr>\n",
       "    <tr>\n",
       "      <th>24</th>\n",
       "      <td>23/06066</td>\n",
       "    </tr>\n",
       "    <tr>\n",
       "      <th>25</th>\n",
       "      <td>22/06345</td>\n",
       "    </tr>\n",
       "    <tr>\n",
       "      <th>26</th>\n",
       "      <td>23/00779</td>\n",
       "    </tr>\n",
       "    <tr>\n",
       "      <th>27</th>\n",
       "      <td>21/08229</td>\n",
       "    </tr>\n",
       "    <tr>\n",
       "      <th>28</th>\n",
       "      <td>21/08427</td>\n",
       "    </tr>\n",
       "    <tr>\n",
       "      <th>29</th>\n",
       "      <td>22/08108</td>\n",
       "    </tr>\n",
       "    <tr>\n",
       "      <th>30</th>\n",
       "      <td>21/06017</td>\n",
       "    </tr>\n",
       "    <tr>\n",
       "      <th>31</th>\n",
       "      <td>21/04874</td>\n",
       "    </tr>\n",
       "    <tr>\n",
       "      <th>32</th>\n",
       "      <td>23/01912</td>\n",
       "    </tr>\n",
       "  </tbody>\n",
       "</table>\n",
       "</div>"
      ],
      "text/plain": [
       "   school_reg\n",
       "0    20/04439\n",
       "1    21/07051\n",
       "2    19/01428\n",
       "3    22/06609\n",
       "4    22/08697\n",
       "5    20/03192\n",
       "6    23/06628\n",
       "7    23/06664\n",
       "8    23/04867\n",
       "9    21/06270\n",
       "10   20/04761\n",
       "11   23/05051\n",
       "12   21/08614\n",
       "13  22/04567 \n",
       "14  21/05213 \n",
       "15   21/07230\n",
       "16   23/07328\n",
       "17  22/06372 \n",
       "18   22/04778\n",
       "19   23/07809\n",
       "20   21/06835\n",
       "21   22/06197\n",
       "22   22/08560\n",
       "23   21/07604\n",
       "24   23/06066\n",
       "25   22/06345\n",
       "26   23/00779\n",
       "27   21/08229\n",
       "28   21/08427\n",
       "29   22/08108\n",
       "30   21/06017\n",
       "31   21/04874\n",
       "32   23/01912"
      ]
     },
     "execution_count": 4,
     "metadata": {},
     "output_type": "execute_result"
    }
   ],
   "source": [
    "#Viewing the reg_no variable\n",
    "reg_no"
   ]
  },
  {
   "cell_type": "code",
   "execution_count": 5,
   "id": "2322d36e",
   "metadata": {},
   "outputs": [],
   "source": [
    "#Setting indexes onto the reg_no entries so as to work with it later on\n",
    "reg_no = reg_no.reset_index()"
   ]
  },
  {
   "cell_type": "code",
   "execution_count": 6,
   "id": "59630dc0",
   "metadata": {},
   "outputs": [],
   "source": [
    "#Converting entries of the school_reg column to a list\n",
    "members = reg_no['school_reg'].tolist()"
   ]
  },
  {
   "cell_type": "code",
   "execution_count": 7,
   "id": "0a8937c0",
   "metadata": {},
   "outputs": [],
   "source": [
    "#Using isin() function to filter only registered members who voted and assigning them in a variable\n",
    "valid_votes = responses[responses['Registration No.'].isin(members)]"
   ]
  },
  {
   "cell_type": "code",
   "execution_count": 8,
   "id": "f0f85f65",
   "metadata": {},
   "outputs": [
    {
     "data": {
      "text/html": [
       "<div>\n",
       "<style scoped>\n",
       "    .dataframe tbody tr th:only-of-type {\n",
       "        vertical-align: middle;\n",
       "    }\n",
       "\n",
       "    .dataframe tbody tr th {\n",
       "        vertical-align: top;\n",
       "    }\n",
       "\n",
       "    .dataframe thead th {\n",
       "        text-align: right;\n",
       "    }\n",
       "</style>\n",
       "<table border=\"1\" class=\"dataframe\">\n",
       "  <thead>\n",
       "    <tr style=\"text-align: right;\">\n",
       "      <th></th>\n",
       "      <th>index</th>\n",
       "      <th>Timestamp</th>\n",
       "      <th>Registration No.</th>\n",
       "      <th>Chair-person</th>\n",
       "      <th>Deputy chair-person</th>\n",
       "      <th>Finance Secretary</th>\n",
       "      <th>Secretary</th>\n",
       "      <th>Chief First Aider</th>\n",
       "    </tr>\n",
       "  </thead>\n",
       "  <tbody>\n",
       "    <tr>\n",
       "      <th>0</th>\n",
       "      <td>1</td>\n",
       "      <td>6/13/2024 15:13:51</td>\n",
       "      <td>19/01428</td>\n",
       "      <td>William Odundo</td>\n",
       "      <td>Winscovia Mmbone</td>\n",
       "      <td>Gichigi Mary</td>\n",
       "      <td>Amaya Hellen Olesi</td>\n",
       "      <td>Joshua Onyango</td>\n",
       "    </tr>\n",
       "    <tr>\n",
       "      <th>1</th>\n",
       "      <td>4</td>\n",
       "      <td>6/13/2024 15:24:03</td>\n",
       "      <td>23/06066</td>\n",
       "      <td>William Odundo</td>\n",
       "      <td>Winscovia Mmbone</td>\n",
       "      <td>Marylyn Waihiga Mugo</td>\n",
       "      <td>Amaya Hellen Olesi</td>\n",
       "      <td>Joshua Onyango</td>\n",
       "    </tr>\n",
       "    <tr>\n",
       "      <th>2</th>\n",
       "      <td>5</td>\n",
       "      <td>6/13/2024 15:32:09</td>\n",
       "      <td>22/08108</td>\n",
       "      <td>William Odundo</td>\n",
       "      <td>BETTY KADZO</td>\n",
       "      <td>Gichigi Mary</td>\n",
       "      <td>Mercy Gitenya</td>\n",
       "      <td>Joshua Onyango</td>\n",
       "    </tr>\n",
       "    <tr>\n",
       "      <th>3</th>\n",
       "      <td>7</td>\n",
       "      <td>6/13/2024 15:33:26</td>\n",
       "      <td>21/07051</td>\n",
       "      <td>William Odundo</td>\n",
       "      <td>BETTY KADZO</td>\n",
       "      <td>Gichigi Mary</td>\n",
       "      <td>Amaya Hellen Olesi</td>\n",
       "      <td>Joshua Onyango</td>\n",
       "    </tr>\n",
       "    <tr>\n",
       "      <th>4</th>\n",
       "      <td>8</td>\n",
       "      <td>6/13/2024 15:33:38</td>\n",
       "      <td>22/04778</td>\n",
       "      <td>William Odundo</td>\n",
       "      <td>BETTY KADZO</td>\n",
       "      <td>Marylyn Waihiga Mugo</td>\n",
       "      <td>Mercy Gitenya</td>\n",
       "      <td>Joshua Onyango</td>\n",
       "    </tr>\n",
       "    <tr>\n",
       "      <th>5</th>\n",
       "      <td>10</td>\n",
       "      <td>6/13/2024 15:39:08</td>\n",
       "      <td>22/06197</td>\n",
       "      <td>William Odundo</td>\n",
       "      <td>Winscovia Mmbone</td>\n",
       "      <td>Gichigi Mary</td>\n",
       "      <td>Amaya Hellen Olesi</td>\n",
       "      <td>Joshua Onyango</td>\n",
       "    </tr>\n",
       "    <tr>\n",
       "      <th>6</th>\n",
       "      <td>11</td>\n",
       "      <td>6/13/2024 15:39:08</td>\n",
       "      <td>22/06345</td>\n",
       "      <td>William Odundo</td>\n",
       "      <td>Winscovia Mmbone</td>\n",
       "      <td>Gichigi Mary</td>\n",
       "      <td>Amaya Hellen Olesi</td>\n",
       "      <td>Joshua Onyango</td>\n",
       "    </tr>\n",
       "    <tr>\n",
       "      <th>7</th>\n",
       "      <td>13</td>\n",
       "      <td>6/13/2024 15:45:56</td>\n",
       "      <td>23/04867</td>\n",
       "      <td>William Odundo</td>\n",
       "      <td>BETTY KADZO</td>\n",
       "      <td>Marylyn Waihiga Mugo</td>\n",
       "      <td>Danielle Adhiambo</td>\n",
       "      <td>Joshua Onyango</td>\n",
       "    </tr>\n",
       "    <tr>\n",
       "      <th>8</th>\n",
       "      <td>15</td>\n",
       "      <td>6/13/2024 15:55:08</td>\n",
       "      <td>23/07809</td>\n",
       "      <td>William Odundo</td>\n",
       "      <td>BETTY KADZO</td>\n",
       "      <td>Marylyn Waihiga Mugo</td>\n",
       "      <td>Danielle Adhiambo</td>\n",
       "      <td>Joshua Onyango</td>\n",
       "    </tr>\n",
       "    <tr>\n",
       "      <th>9</th>\n",
       "      <td>16</td>\n",
       "      <td>6/13/2024 15:56:04</td>\n",
       "      <td>23/06628</td>\n",
       "      <td>William Odundo</td>\n",
       "      <td>BETTY KADZO</td>\n",
       "      <td>Marylyn Waihiga Mugo</td>\n",
       "      <td>Danielle Adhiambo</td>\n",
       "      <td>Joshua Onyango</td>\n",
       "    </tr>\n",
       "    <tr>\n",
       "      <th>10</th>\n",
       "      <td>17</td>\n",
       "      <td>6/13/2024 15:56:19</td>\n",
       "      <td>20/03192</td>\n",
       "      <td>William Odundo</td>\n",
       "      <td>BETTY KADZO</td>\n",
       "      <td>Marylyn Waihiga Mugo</td>\n",
       "      <td>Mercy Gitenya</td>\n",
       "      <td>Joshua Onyango</td>\n",
       "    </tr>\n",
       "    <tr>\n",
       "      <th>11</th>\n",
       "      <td>20</td>\n",
       "      <td>6/13/2024 16:11:00</td>\n",
       "      <td>20/04761</td>\n",
       "      <td>William Odundo</td>\n",
       "      <td>BETTY KADZO</td>\n",
       "      <td>Marylyn Waihiga Mugo</td>\n",
       "      <td>Amaya Hellen Olesi</td>\n",
       "      <td>Joshua Onyango</td>\n",
       "    </tr>\n",
       "    <tr>\n",
       "      <th>12</th>\n",
       "      <td>22</td>\n",
       "      <td>6/13/2024 16:18:50</td>\n",
       "      <td>23/06664</td>\n",
       "      <td>William Odundo</td>\n",
       "      <td>BETTY KADZO</td>\n",
       "      <td>Gichigi Mary</td>\n",
       "      <td>Amaya Hellen Olesi</td>\n",
       "      <td>Joshua Onyango</td>\n",
       "    </tr>\n",
       "    <tr>\n",
       "      <th>13</th>\n",
       "      <td>23</td>\n",
       "      <td>6/13/2024 16:21:44</td>\n",
       "      <td>23/01912</td>\n",
       "      <td>William Odundo</td>\n",
       "      <td>BETTY KADZO</td>\n",
       "      <td>Marylyn Waihiga Mugo</td>\n",
       "      <td>Danielle Adhiambo</td>\n",
       "      <td>Joshua Onyango</td>\n",
       "    </tr>\n",
       "    <tr>\n",
       "      <th>14</th>\n",
       "      <td>25</td>\n",
       "      <td>6/13/2024 16:46:40</td>\n",
       "      <td>21/06835</td>\n",
       "      <td>William Odundo</td>\n",
       "      <td>BETTY KADZO</td>\n",
       "      <td>Marylyn Waihiga Mugo</td>\n",
       "      <td>Amaya Hellen Olesi</td>\n",
       "      <td>Joshua Onyango</td>\n",
       "    </tr>\n",
       "    <tr>\n",
       "      <th>15</th>\n",
       "      <td>26</td>\n",
       "      <td>6/13/2024 16:54:28</td>\n",
       "      <td>21/06270</td>\n",
       "      <td>William Odundo</td>\n",
       "      <td>Winscovia Mmbone</td>\n",
       "      <td>Gichigi Mary</td>\n",
       "      <td>Danielle Adhiambo</td>\n",
       "      <td>Joshua Onyango</td>\n",
       "    </tr>\n",
       "    <tr>\n",
       "      <th>16</th>\n",
       "      <td>28</td>\n",
       "      <td>6/13/2024 17:41:26</td>\n",
       "      <td>21/08614</td>\n",
       "      <td>William Odundo</td>\n",
       "      <td>Winscovia Mmbone</td>\n",
       "      <td>Marylyn Waihiga Mugo</td>\n",
       "      <td>Danielle Adhiambo</td>\n",
       "      <td>Joshua Onyango</td>\n",
       "    </tr>\n",
       "    <tr>\n",
       "      <th>17</th>\n",
       "      <td>31</td>\n",
       "      <td>6/13/2024 19:56:09</td>\n",
       "      <td>21/07230</td>\n",
       "      <td>William Odundo</td>\n",
       "      <td>BETTY KADZO</td>\n",
       "      <td>Gichigi Mary</td>\n",
       "      <td>Amaya Hellen Olesi</td>\n",
       "      <td>Joshua Onyango</td>\n",
       "    </tr>\n",
       "    <tr>\n",
       "      <th>18</th>\n",
       "      <td>32</td>\n",
       "      <td>6/13/2024 20:05:08</td>\n",
       "      <td>20/04439</td>\n",
       "      <td>William Odundo</td>\n",
       "      <td>Winscovia Mmbone</td>\n",
       "      <td>Gichigi Mary</td>\n",
       "      <td>Amaya Hellen Olesi</td>\n",
       "      <td>Joshua Onyango</td>\n",
       "    </tr>\n",
       "    <tr>\n",
       "      <th>19</th>\n",
       "      <td>35</td>\n",
       "      <td>6/13/2024 20:55:36</td>\n",
       "      <td>21/07604</td>\n",
       "      <td>William Odundo</td>\n",
       "      <td>Winscovia Mmbone</td>\n",
       "      <td>Gichigi Mary</td>\n",
       "      <td>Amaya Hellen Olesi</td>\n",
       "      <td>Joshua Onyango</td>\n",
       "    </tr>\n",
       "    <tr>\n",
       "      <th>20</th>\n",
       "      <td>36</td>\n",
       "      <td>6/13/2024 21:07:38</td>\n",
       "      <td>22/08697</td>\n",
       "      <td>William Odundo</td>\n",
       "      <td>Winscovia Mmbone</td>\n",
       "      <td>Marylyn Waihiga Mugo</td>\n",
       "      <td>Amaya Hellen Olesi</td>\n",
       "      <td>Joshua Onyango</td>\n",
       "    </tr>\n",
       "    <tr>\n",
       "      <th>21</th>\n",
       "      <td>37</td>\n",
       "      <td>6/13/2024 21:28:27</td>\n",
       "      <td>22/08560</td>\n",
       "      <td>William Odundo</td>\n",
       "      <td>Winscovia Mmbone</td>\n",
       "      <td>Marylyn Waihiga Mugo</td>\n",
       "      <td>Danielle Adhiambo</td>\n",
       "      <td>Joshua Onyango</td>\n",
       "    </tr>\n",
       "    <tr>\n",
       "      <th>22</th>\n",
       "      <td>38</td>\n",
       "      <td>6/13/2024 22:00:09</td>\n",
       "      <td>22/06372</td>\n",
       "      <td>William Odundo</td>\n",
       "      <td>Winscovia Mmbone</td>\n",
       "      <td>Gichigi Mary</td>\n",
       "      <td>Amaya Hellen Olesi</td>\n",
       "      <td>Joshua Onyango</td>\n",
       "    </tr>\n",
       "    <tr>\n",
       "      <th>23</th>\n",
       "      <td>42</td>\n",
       "      <td>6/13/2024 22:47:24</td>\n",
       "      <td>22/04567</td>\n",
       "      <td>William Odundo</td>\n",
       "      <td>Winscovia Mmbone</td>\n",
       "      <td>Marylyn Waihiga Mugo</td>\n",
       "      <td>Mercy Gitenya</td>\n",
       "      <td>Joshua Onyango</td>\n",
       "    </tr>\n",
       "  </tbody>\n",
       "</table>\n",
       "</div>"
      ],
      "text/plain": [
       "    index           Timestamp Registration No.    Chair-person  \\\n",
       "0       1  6/13/2024 15:13:51         19/01428  William Odundo   \n",
       "1       4  6/13/2024 15:24:03         23/06066  William Odundo   \n",
       "2       5  6/13/2024 15:32:09         22/08108  William Odundo   \n",
       "3       7  6/13/2024 15:33:26         21/07051  William Odundo   \n",
       "4       8  6/13/2024 15:33:38         22/04778  William Odundo   \n",
       "5      10  6/13/2024 15:39:08         22/06197  William Odundo   \n",
       "6      11  6/13/2024 15:39:08         22/06345  William Odundo   \n",
       "7      13  6/13/2024 15:45:56         23/04867  William Odundo   \n",
       "8      15  6/13/2024 15:55:08         23/07809  William Odundo   \n",
       "9      16  6/13/2024 15:56:04         23/06628  William Odundo   \n",
       "10     17  6/13/2024 15:56:19         20/03192  William Odundo   \n",
       "11     20  6/13/2024 16:11:00         20/04761  William Odundo   \n",
       "12     22  6/13/2024 16:18:50         23/06664  William Odundo   \n",
       "13     23  6/13/2024 16:21:44         23/01912  William Odundo   \n",
       "14     25  6/13/2024 16:46:40         21/06835  William Odundo   \n",
       "15     26  6/13/2024 16:54:28         21/06270  William Odundo   \n",
       "16     28  6/13/2024 17:41:26         21/08614  William Odundo   \n",
       "17     31  6/13/2024 19:56:09         21/07230  William Odundo   \n",
       "18     32  6/13/2024 20:05:08         20/04439  William Odundo   \n",
       "19     35  6/13/2024 20:55:36         21/07604  William Odundo   \n",
       "20     36  6/13/2024 21:07:38         22/08697  William Odundo   \n",
       "21     37  6/13/2024 21:28:27         22/08560  William Odundo   \n",
       "22     38  6/13/2024 22:00:09        22/06372   William Odundo   \n",
       "23     42  6/13/2024 22:47:24        22/04567   William Odundo   \n",
       "\n",
       "   Deputy chair-person     Finance Secretary           Secretary  \\\n",
       "0     Winscovia Mmbone          Gichigi Mary  Amaya Hellen Olesi   \n",
       "1     Winscovia Mmbone  Marylyn Waihiga Mugo  Amaya Hellen Olesi   \n",
       "2          BETTY KADZO          Gichigi Mary       Mercy Gitenya   \n",
       "3          BETTY KADZO          Gichigi Mary  Amaya Hellen Olesi   \n",
       "4          BETTY KADZO  Marylyn Waihiga Mugo       Mercy Gitenya   \n",
       "5     Winscovia Mmbone          Gichigi Mary  Amaya Hellen Olesi   \n",
       "6     Winscovia Mmbone          Gichigi Mary  Amaya Hellen Olesi   \n",
       "7          BETTY KADZO  Marylyn Waihiga Mugo   Danielle Adhiambo   \n",
       "8          BETTY KADZO  Marylyn Waihiga Mugo   Danielle Adhiambo   \n",
       "9          BETTY KADZO  Marylyn Waihiga Mugo   Danielle Adhiambo   \n",
       "10         BETTY KADZO  Marylyn Waihiga Mugo       Mercy Gitenya   \n",
       "11         BETTY KADZO  Marylyn Waihiga Mugo  Amaya Hellen Olesi   \n",
       "12         BETTY KADZO          Gichigi Mary  Amaya Hellen Olesi   \n",
       "13         BETTY KADZO  Marylyn Waihiga Mugo   Danielle Adhiambo   \n",
       "14         BETTY KADZO  Marylyn Waihiga Mugo  Amaya Hellen Olesi   \n",
       "15    Winscovia Mmbone          Gichigi Mary   Danielle Adhiambo   \n",
       "16    Winscovia Mmbone  Marylyn Waihiga Mugo   Danielle Adhiambo   \n",
       "17         BETTY KADZO          Gichigi Mary  Amaya Hellen Olesi   \n",
       "18    Winscovia Mmbone          Gichigi Mary  Amaya Hellen Olesi   \n",
       "19    Winscovia Mmbone          Gichigi Mary  Amaya Hellen Olesi   \n",
       "20    Winscovia Mmbone  Marylyn Waihiga Mugo  Amaya Hellen Olesi   \n",
       "21    Winscovia Mmbone  Marylyn Waihiga Mugo   Danielle Adhiambo   \n",
       "22    Winscovia Mmbone          Gichigi Mary  Amaya Hellen Olesi   \n",
       "23    Winscovia Mmbone  Marylyn Waihiga Mugo       Mercy Gitenya   \n",
       "\n",
       "   Chief First Aider  \n",
       "0     Joshua Onyango  \n",
       "1     Joshua Onyango  \n",
       "2     Joshua Onyango  \n",
       "3     Joshua Onyango  \n",
       "4     Joshua Onyango  \n",
       "5     Joshua Onyango  \n",
       "6     Joshua Onyango  \n",
       "7     Joshua Onyango  \n",
       "8     Joshua Onyango  \n",
       "9     Joshua Onyango  \n",
       "10    Joshua Onyango  \n",
       "11    Joshua Onyango  \n",
       "12    Joshua Onyango  \n",
       "13    Joshua Onyango  \n",
       "14    Joshua Onyango  \n",
       "15    Joshua Onyango  \n",
       "16    Joshua Onyango  \n",
       "17    Joshua Onyango  \n",
       "18    Joshua Onyango  \n",
       "19    Joshua Onyango  \n",
       "20    Joshua Onyango  \n",
       "21    Joshua Onyango  \n",
       "22    Joshua Onyango  \n",
       "23    Joshua Onyango  "
      ]
     },
     "execution_count": 8,
     "metadata": {},
     "output_type": "execute_result"
    }
   ],
   "source": [
    "#Reseting the index of the variable valid_votes to work with it later on \n",
    "valid_votes.reset_index()"
   ]
  },
  {
   "cell_type": "code",
   "execution_count": 9,
   "id": "adec0c5b",
   "metadata": {},
   "outputs": [
    {
     "data": {
      "text/plain": [
       "24"
      ]
     },
     "execution_count": 9,
     "metadata": {},
     "output_type": "execute_result"
    }
   ],
   "source": [
    "#Counting the total number of registered members who voted\n",
    "valid_votes['Registration No.'].count()"
   ]
  },
  {
   "cell_type": "code",
   "execution_count": 10,
   "id": "34e9e91a",
   "metadata": {},
   "outputs": [],
   "source": [
    "#Using isin() function to check registered members who didn't vote\n",
    "#The output is boolean type data hence reset the index to work with it later on\n",
    "valid_votes1 = reg_no['school_reg'].isin(responses['Registration No.']).reset_index()"
   ]
  },
  {
   "cell_type": "code",
   "execution_count": 11,
   "id": "eeedeab3",
   "metadata": {},
   "outputs": [],
   "source": [
    "#Using the boolen data type collected to filter false(Registered members who didn't vote)\n",
    "not_voted = valid_votes1[valid_votes1['school_reg'] == False]"
   ]
  },
  {
   "cell_type": "code",
   "execution_count": 12,
   "id": "8e4afac9",
   "metadata": {},
   "outputs": [
    {
     "data": {
      "text/html": [
       "<div>\n",
       "<style scoped>\n",
       "    .dataframe tbody tr th:only-of-type {\n",
       "        vertical-align: middle;\n",
       "    }\n",
       "\n",
       "    .dataframe tbody tr th {\n",
       "        vertical-align: top;\n",
       "    }\n",
       "\n",
       "    .dataframe thead th {\n",
       "        text-align: right;\n",
       "    }\n",
       "</style>\n",
       "<table border=\"1\" class=\"dataframe\">\n",
       "  <thead>\n",
       "    <tr style=\"text-align: right;\">\n",
       "      <th></th>\n",
       "      <th>index</th>\n",
       "      <th>school_reg</th>\n",
       "    </tr>\n",
       "  </thead>\n",
       "  <tbody>\n",
       "    <tr>\n",
       "      <th>3</th>\n",
       "      <td>3</td>\n",
       "      <td>False</td>\n",
       "    </tr>\n",
       "    <tr>\n",
       "      <th>11</th>\n",
       "      <td>11</td>\n",
       "      <td>False</td>\n",
       "    </tr>\n",
       "    <tr>\n",
       "      <th>14</th>\n",
       "      <td>14</td>\n",
       "      <td>False</td>\n",
       "    </tr>\n",
       "    <tr>\n",
       "      <th>16</th>\n",
       "      <td>16</td>\n",
       "      <td>False</td>\n",
       "    </tr>\n",
       "    <tr>\n",
       "      <th>26</th>\n",
       "      <td>26</td>\n",
       "      <td>False</td>\n",
       "    </tr>\n",
       "  </tbody>\n",
       "</table>\n",
       "</div>"
      ],
      "text/plain": [
       "    index  school_reg\n",
       "3       3       False\n",
       "11     11       False\n",
       "14     14       False\n",
       "16     16       False\n",
       "26     26       False"
      ]
     },
     "execution_count": 12,
     "metadata": {},
     "output_type": "execute_result"
    }
   ],
   "source": [
    "#Checking if the not_voted variable brings the desired output(False)\n",
    "not_voted.head()"
   ]
  },
  {
   "cell_type": "code",
   "execution_count": 13,
   "id": "f0a7baa9",
   "metadata": {},
   "outputs": [],
   "source": [
    "#Converting the index column to a list to enable working with it later on\n",
    "testy = not_voted['index'].tolist()"
   ]
  },
  {
   "cell_type": "code",
   "execution_count": 14,
   "id": "dbd24956",
   "metadata": {},
   "outputs": [
    {
     "data": {
      "text/plain": [
       "[3, 11, 14, 16, 26, 27, 28, 30, 31]"
      ]
     },
     "execution_count": 14,
     "metadata": {},
     "output_type": "execute_result"
    }
   ],
   "source": [
    "#Checking if the variable declared was successfully converted to a list\n",
    "testy"
   ]
  },
  {
   "cell_type": "code",
   "execution_count": 15,
   "id": "1acf0299",
   "metadata": {},
   "outputs": [],
   "source": [
    "#Using isin() function to filter registered members who didn't vote\n",
    "members_not_voted = reg_no[reg_no['index'].isin(testy)]"
   ]
  },
  {
   "cell_type": "code",
   "execution_count": 16,
   "id": "e92058c9",
   "metadata": {},
   "outputs": [
    {
     "data": {
      "text/html": [
       "<div>\n",
       "<style scoped>\n",
       "    .dataframe tbody tr th:only-of-type {\n",
       "        vertical-align: middle;\n",
       "    }\n",
       "\n",
       "    .dataframe tbody tr th {\n",
       "        vertical-align: top;\n",
       "    }\n",
       "\n",
       "    .dataframe thead th {\n",
       "        text-align: right;\n",
       "    }\n",
       "</style>\n",
       "<table border=\"1\" class=\"dataframe\">\n",
       "  <thead>\n",
       "    <tr style=\"text-align: right;\">\n",
       "      <th></th>\n",
       "      <th>index</th>\n",
       "      <th>school_reg</th>\n",
       "    </tr>\n",
       "  </thead>\n",
       "  <tbody>\n",
       "    <tr>\n",
       "      <th>3</th>\n",
       "      <td>3</td>\n",
       "      <td>22/06609</td>\n",
       "    </tr>\n",
       "    <tr>\n",
       "      <th>11</th>\n",
       "      <td>11</td>\n",
       "      <td>23/05051</td>\n",
       "    </tr>\n",
       "    <tr>\n",
       "      <th>14</th>\n",
       "      <td>14</td>\n",
       "      <td>21/05213</td>\n",
       "    </tr>\n",
       "    <tr>\n",
       "      <th>16</th>\n",
       "      <td>16</td>\n",
       "      <td>23/07328</td>\n",
       "    </tr>\n",
       "    <tr>\n",
       "      <th>26</th>\n",
       "      <td>26</td>\n",
       "      <td>23/00779</td>\n",
       "    </tr>\n",
       "    <tr>\n",
       "      <th>27</th>\n",
       "      <td>27</td>\n",
       "      <td>21/08229</td>\n",
       "    </tr>\n",
       "    <tr>\n",
       "      <th>28</th>\n",
       "      <td>28</td>\n",
       "      <td>21/08427</td>\n",
       "    </tr>\n",
       "    <tr>\n",
       "      <th>30</th>\n",
       "      <td>30</td>\n",
       "      <td>21/06017</td>\n",
       "    </tr>\n",
       "    <tr>\n",
       "      <th>31</th>\n",
       "      <td>31</td>\n",
       "      <td>21/04874</td>\n",
       "    </tr>\n",
       "  </tbody>\n",
       "</table>\n",
       "</div>"
      ],
      "text/plain": [
       "    index school_reg\n",
       "3       3   22/06609\n",
       "11     11   23/05051\n",
       "14     14  21/05213 \n",
       "16     16   23/07328\n",
       "26     26   23/00779\n",
       "27     27   21/08229\n",
       "28     28   21/08427\n",
       "30     30   21/06017\n",
       "31     31   21/04874"
      ]
     },
     "execution_count": 16,
     "metadata": {},
     "output_type": "execute_result"
    }
   ],
   "source": [
    "#Checking if the variable declared was successfully converted to a dataframe\n",
    "members_not_voted"
   ]
  },
  {
   "cell_type": "code",
   "execution_count": 17,
   "id": "e3351fad",
   "metadata": {},
   "outputs": [],
   "source": [
    "#Converting and storing the members_not_voted dataframe into a csv file\n",
    "members_not_voted.to_csv('Redcross data//Members not voted.csv',index=False)"
   ]
  },
  {
   "cell_type": "code",
   "execution_count": 18,
   "id": "0d0d437d",
   "metadata": {},
   "outputs": [],
   "source": [
    "#Using the valid_votes1 variable to filter registered members who voted\n",
    "voted = valid_votes1[valid_votes1['school_reg'] == True]"
   ]
  },
  {
   "cell_type": "code",
   "execution_count": 19,
   "id": "42941248",
   "metadata": {},
   "outputs": [
    {
     "data": {
      "text/html": [
       "<div>\n",
       "<style scoped>\n",
       "    .dataframe tbody tr th:only-of-type {\n",
       "        vertical-align: middle;\n",
       "    }\n",
       "\n",
       "    .dataframe tbody tr th {\n",
       "        vertical-align: top;\n",
       "    }\n",
       "\n",
       "    .dataframe thead th {\n",
       "        text-align: right;\n",
       "    }\n",
       "</style>\n",
       "<table border=\"1\" class=\"dataframe\">\n",
       "  <thead>\n",
       "    <tr style=\"text-align: right;\">\n",
       "      <th></th>\n",
       "      <th>index</th>\n",
       "      <th>school_reg</th>\n",
       "    </tr>\n",
       "  </thead>\n",
       "  <tbody>\n",
       "    <tr>\n",
       "      <th>0</th>\n",
       "      <td>0</td>\n",
       "      <td>True</td>\n",
       "    </tr>\n",
       "    <tr>\n",
       "      <th>1</th>\n",
       "      <td>1</td>\n",
       "      <td>True</td>\n",
       "    </tr>\n",
       "    <tr>\n",
       "      <th>2</th>\n",
       "      <td>2</td>\n",
       "      <td>True</td>\n",
       "    </tr>\n",
       "    <tr>\n",
       "      <th>4</th>\n",
       "      <td>4</td>\n",
       "      <td>True</td>\n",
       "    </tr>\n",
       "    <tr>\n",
       "      <th>5</th>\n",
       "      <td>5</td>\n",
       "      <td>True</td>\n",
       "    </tr>\n",
       "  </tbody>\n",
       "</table>\n",
       "</div>"
      ],
      "text/plain": [
       "   index  school_reg\n",
       "0      0        True\n",
       "1      1        True\n",
       "2      2        True\n",
       "4      4        True\n",
       "5      5        True"
      ]
     },
     "execution_count": 19,
     "metadata": {},
     "output_type": "execute_result"
    }
   ],
   "source": [
    "#Checking if the voted variable brings the desired output(True)\n",
    "voted.head()"
   ]
  },
  {
   "cell_type": "code",
   "execution_count": 20,
   "id": "57f193d6",
   "metadata": {},
   "outputs": [],
   "source": [
    "#Converting the index column to a list to enable working with it later on\n",
    "testy2 = voted['index'].tolist()"
   ]
  },
  {
   "cell_type": "code",
   "execution_count": 21,
   "id": "7dfbc249",
   "metadata": {},
   "outputs": [
    {
     "data": {
      "text/plain": [
       "[0,\n",
       " 1,\n",
       " 2,\n",
       " 4,\n",
       " 5,\n",
       " 6,\n",
       " 7,\n",
       " 8,\n",
       " 9,\n",
       " 10,\n",
       " 12,\n",
       " 13,\n",
       " 15,\n",
       " 17,\n",
       " 18,\n",
       " 19,\n",
       " 20,\n",
       " 21,\n",
       " 22,\n",
       " 23,\n",
       " 24,\n",
       " 25,\n",
       " 29,\n",
       " 32]"
      ]
     },
     "execution_count": 21,
     "metadata": {},
     "output_type": "execute_result"
    }
   ],
   "source": [
    "#Checking if the variable declared was successfully converted to a list\n",
    "testy2"
   ]
  },
  {
   "cell_type": "code",
   "execution_count": 22,
   "id": "07c0d07a",
   "metadata": {},
   "outputs": [],
   "source": [
    "#Using isin() function to filter registered members who voted\n",
    "members_voted = reg_no[reg_no['index'].isin(testy2)]"
   ]
  },
  {
   "cell_type": "code",
   "execution_count": 23,
   "id": "88dc896e",
   "metadata": {},
   "outputs": [
    {
     "data": {
      "text/html": [
       "<div>\n",
       "<style scoped>\n",
       "    .dataframe tbody tr th:only-of-type {\n",
       "        vertical-align: middle;\n",
       "    }\n",
       "\n",
       "    .dataframe tbody tr th {\n",
       "        vertical-align: top;\n",
       "    }\n",
       "\n",
       "    .dataframe thead th {\n",
       "        text-align: right;\n",
       "    }\n",
       "</style>\n",
       "<table border=\"1\" class=\"dataframe\">\n",
       "  <thead>\n",
       "    <tr style=\"text-align: right;\">\n",
       "      <th></th>\n",
       "      <th>index</th>\n",
       "      <th>school_reg</th>\n",
       "    </tr>\n",
       "  </thead>\n",
       "  <tbody>\n",
       "    <tr>\n",
       "      <th>0</th>\n",
       "      <td>0</td>\n",
       "      <td>20/04439</td>\n",
       "    </tr>\n",
       "    <tr>\n",
       "      <th>1</th>\n",
       "      <td>1</td>\n",
       "      <td>21/07051</td>\n",
       "    </tr>\n",
       "    <tr>\n",
       "      <th>2</th>\n",
       "      <td>2</td>\n",
       "      <td>19/01428</td>\n",
       "    </tr>\n",
       "    <tr>\n",
       "      <th>4</th>\n",
       "      <td>4</td>\n",
       "      <td>22/08697</td>\n",
       "    </tr>\n",
       "    <tr>\n",
       "      <th>5</th>\n",
       "      <td>5</td>\n",
       "      <td>20/03192</td>\n",
       "    </tr>\n",
       "    <tr>\n",
       "      <th>6</th>\n",
       "      <td>6</td>\n",
       "      <td>23/06628</td>\n",
       "    </tr>\n",
       "    <tr>\n",
       "      <th>7</th>\n",
       "      <td>7</td>\n",
       "      <td>23/06664</td>\n",
       "    </tr>\n",
       "    <tr>\n",
       "      <th>8</th>\n",
       "      <td>8</td>\n",
       "      <td>23/04867</td>\n",
       "    </tr>\n",
       "    <tr>\n",
       "      <th>9</th>\n",
       "      <td>9</td>\n",
       "      <td>21/06270</td>\n",
       "    </tr>\n",
       "    <tr>\n",
       "      <th>10</th>\n",
       "      <td>10</td>\n",
       "      <td>20/04761</td>\n",
       "    </tr>\n",
       "    <tr>\n",
       "      <th>12</th>\n",
       "      <td>12</td>\n",
       "      <td>21/08614</td>\n",
       "    </tr>\n",
       "    <tr>\n",
       "      <th>13</th>\n",
       "      <td>13</td>\n",
       "      <td>22/04567</td>\n",
       "    </tr>\n",
       "    <tr>\n",
       "      <th>15</th>\n",
       "      <td>15</td>\n",
       "      <td>21/07230</td>\n",
       "    </tr>\n",
       "    <tr>\n",
       "      <th>17</th>\n",
       "      <td>17</td>\n",
       "      <td>22/06372</td>\n",
       "    </tr>\n",
       "    <tr>\n",
       "      <th>18</th>\n",
       "      <td>18</td>\n",
       "      <td>22/04778</td>\n",
       "    </tr>\n",
       "    <tr>\n",
       "      <th>19</th>\n",
       "      <td>19</td>\n",
       "      <td>23/07809</td>\n",
       "    </tr>\n",
       "    <tr>\n",
       "      <th>20</th>\n",
       "      <td>20</td>\n",
       "      <td>21/06835</td>\n",
       "    </tr>\n",
       "    <tr>\n",
       "      <th>21</th>\n",
       "      <td>21</td>\n",
       "      <td>22/06197</td>\n",
       "    </tr>\n",
       "    <tr>\n",
       "      <th>22</th>\n",
       "      <td>22</td>\n",
       "      <td>22/08560</td>\n",
       "    </tr>\n",
       "    <tr>\n",
       "      <th>23</th>\n",
       "      <td>23</td>\n",
       "      <td>21/07604</td>\n",
       "    </tr>\n",
       "    <tr>\n",
       "      <th>24</th>\n",
       "      <td>24</td>\n",
       "      <td>23/06066</td>\n",
       "    </tr>\n",
       "    <tr>\n",
       "      <th>25</th>\n",
       "      <td>25</td>\n",
       "      <td>22/06345</td>\n",
       "    </tr>\n",
       "    <tr>\n",
       "      <th>29</th>\n",
       "      <td>29</td>\n",
       "      <td>22/08108</td>\n",
       "    </tr>\n",
       "    <tr>\n",
       "      <th>32</th>\n",
       "      <td>32</td>\n",
       "      <td>23/01912</td>\n",
       "    </tr>\n",
       "  </tbody>\n",
       "</table>\n",
       "</div>"
      ],
      "text/plain": [
       "    index school_reg\n",
       "0       0   20/04439\n",
       "1       1   21/07051\n",
       "2       2   19/01428\n",
       "4       4   22/08697\n",
       "5       5   20/03192\n",
       "6       6   23/06628\n",
       "7       7   23/06664\n",
       "8       8   23/04867\n",
       "9       9   21/06270\n",
       "10     10   20/04761\n",
       "12     12   21/08614\n",
       "13     13  22/04567 \n",
       "15     15   21/07230\n",
       "17     17  22/06372 \n",
       "18     18   22/04778\n",
       "19     19   23/07809\n",
       "20     20   21/06835\n",
       "21     21   22/06197\n",
       "22     22   22/08560\n",
       "23     23   21/07604\n",
       "24     24   23/06066\n",
       "25     25   22/06345\n",
       "29     29   22/08108\n",
       "32     32   23/01912"
      ]
     },
     "execution_count": 23,
     "metadata": {},
     "output_type": "execute_result"
    }
   ],
   "source": [
    "#Checking if the variable declared was successfully converted to a dataframe\n",
    "members_voted"
   ]
  },
  {
   "cell_type": "code",
   "execution_count": 24,
   "id": "8662bd82",
   "metadata": {},
   "outputs": [],
   "source": [
    "#members_voted.reset_index()"
   ]
  },
  {
   "cell_type": "code",
   "execution_count": 25,
   "id": "b9b453a4",
   "metadata": {},
   "outputs": [],
   "source": [
    "#Converting and storing the members_voted dataframe into a csv file\n",
    "members_voted.to_csv('Redcross data//Members_voted.csv',index=False)"
   ]
  },
  {
   "cell_type": "code",
   "execution_count": 26,
   "id": "cdb7f66f",
   "metadata": {},
   "outputs": [],
   "source": [
    "#Filtering responses of non members\n",
    "non_members = responses[responses['Registration No.'].isin(members)==False]"
   ]
  },
  {
   "cell_type": "code",
   "execution_count": 27,
   "id": "6d7ff971",
   "metadata": {},
   "outputs": [
    {
     "data": {
      "text/html": [
       "<div>\n",
       "<style scoped>\n",
       "    .dataframe tbody tr th:only-of-type {\n",
       "        vertical-align: middle;\n",
       "    }\n",
       "\n",
       "    .dataframe tbody tr th {\n",
       "        vertical-align: top;\n",
       "    }\n",
       "\n",
       "    .dataframe thead th {\n",
       "        text-align: right;\n",
       "    }\n",
       "</style>\n",
       "<table border=\"1\" class=\"dataframe\">\n",
       "  <thead>\n",
       "    <tr style=\"text-align: right;\">\n",
       "      <th></th>\n",
       "      <th>Timestamp</th>\n",
       "      <th>Registration No.</th>\n",
       "      <th>Chair-person</th>\n",
       "      <th>Deputy chair-person</th>\n",
       "      <th>Finance Secretary</th>\n",
       "      <th>Secretary</th>\n",
       "      <th>Chief First Aider</th>\n",
       "    </tr>\n",
       "  </thead>\n",
       "  <tbody>\n",
       "    <tr>\n",
       "      <th>0</th>\n",
       "      <td>6/13/2024 15:13:00</td>\n",
       "      <td>21/05213</td>\n",
       "      <td>William Odundo</td>\n",
       "      <td>BETTY KADZO</td>\n",
       "      <td>Gichigi Mary</td>\n",
       "      <td>Amaya Hellen Olesi</td>\n",
       "      <td>Joshua Onyango</td>\n",
       "    </tr>\n",
       "    <tr>\n",
       "      <th>2</th>\n",
       "      <td>6/13/2024 15:19:14</td>\n",
       "      <td>22/05032</td>\n",
       "      <td>William Odundo</td>\n",
       "      <td>BETTY KADZO</td>\n",
       "      <td>Marylyn Waihiga Mugo</td>\n",
       "      <td>Mercy Gitenya</td>\n",
       "      <td>Joshua Onyango</td>\n",
       "    </tr>\n",
       "    <tr>\n",
       "      <th>3</th>\n",
       "      <td>6/13/2024 15:21:46</td>\n",
       "      <td>23/03751</td>\n",
       "      <td>William Odundo</td>\n",
       "      <td>BETTY KADZO</td>\n",
       "      <td>Gichigi Mary</td>\n",
       "      <td>Amaya Hellen Olesi</td>\n",
       "      <td>Joshua Onyango</td>\n",
       "    </tr>\n",
       "    <tr>\n",
       "      <th>6</th>\n",
       "      <td>6/13/2024 15:33:12</td>\n",
       "      <td>22/09127</td>\n",
       "      <td>William Odundo</td>\n",
       "      <td>BETTY KADZO</td>\n",
       "      <td>Gichigi Mary</td>\n",
       "      <td>Danielle Adhiambo</td>\n",
       "      <td>Joshua Onyango</td>\n",
       "    </tr>\n",
       "    <tr>\n",
       "      <th>9</th>\n",
       "      <td>6/13/2024 15:35:20</td>\n",
       "      <td>23/07797</td>\n",
       "      <td>William Odundo</td>\n",
       "      <td>Winscovia Mmbone</td>\n",
       "      <td>Marylyn Waihiga Mugo</td>\n",
       "      <td>Amaya Hellen Olesi</td>\n",
       "      <td>Joshua Onyango</td>\n",
       "    </tr>\n",
       "    <tr>\n",
       "      <th>12</th>\n",
       "      <td>6/13/2024 15:39:50</td>\n",
       "      <td>21/03279</td>\n",
       "      <td>William Odundo</td>\n",
       "      <td>Winscovia Mmbone</td>\n",
       "      <td>Marylyn Waihiga Mugo</td>\n",
       "      <td>Danielle Adhiambo</td>\n",
       "      <td>Joshua Onyango</td>\n",
       "    </tr>\n",
       "    <tr>\n",
       "      <th>14</th>\n",
       "      <td>6/13/2024 15:51:39</td>\n",
       "      <td>22/08252</td>\n",
       "      <td>William Odundo</td>\n",
       "      <td>Winscovia Mmbone</td>\n",
       "      <td>Gichigi Mary</td>\n",
       "      <td>Amaya Hellen Olesi</td>\n",
       "      <td>Joshua Onyango</td>\n",
       "    </tr>\n",
       "    <tr>\n",
       "      <th>18</th>\n",
       "      <td>6/13/2024 16:02:53</td>\n",
       "      <td>24/00559</td>\n",
       "      <td>William Odundo</td>\n",
       "      <td>BETTY KADZO</td>\n",
       "      <td>Gichigi Mary</td>\n",
       "      <td>Amaya Hellen Olesi</td>\n",
       "      <td>Joshua Onyango</td>\n",
       "    </tr>\n",
       "    <tr>\n",
       "      <th>19</th>\n",
       "      <td>6/13/2024 16:08:18</td>\n",
       "      <td>21/09015</td>\n",
       "      <td>William Odundo</td>\n",
       "      <td>BETTY KADZO</td>\n",
       "      <td>Gichigi Mary</td>\n",
       "      <td>Amaya Hellen Olesi</td>\n",
       "      <td>Joshua Onyango</td>\n",
       "    </tr>\n",
       "    <tr>\n",
       "      <th>21</th>\n",
       "      <td>6/13/2024 16:12:03</td>\n",
       "      <td>21/04864</td>\n",
       "      <td>William Odundo</td>\n",
       "      <td>BETTY KADZO</td>\n",
       "      <td>Marylyn Waihiga Mugo</td>\n",
       "      <td>Amaya Hellen Olesi</td>\n",
       "      <td>Joshua Onyango</td>\n",
       "    </tr>\n",
       "    <tr>\n",
       "      <th>24</th>\n",
       "      <td>6/13/2024 16:23:28</td>\n",
       "      <td>22/01233</td>\n",
       "      <td>William Odundo</td>\n",
       "      <td>BETTY KADZO</td>\n",
       "      <td>Gichigi Mary</td>\n",
       "      <td>Danielle Adhiambo</td>\n",
       "      <td>Joshua Onyango</td>\n",
       "    </tr>\n",
       "    <tr>\n",
       "      <th>27</th>\n",
       "      <td>6/13/2024 17:02:35</td>\n",
       "      <td>22/04299</td>\n",
       "      <td>William Odundo</td>\n",
       "      <td>BETTY KADZO</td>\n",
       "      <td>Marylyn Waihiga Mugo</td>\n",
       "      <td>Mercy Gitenya</td>\n",
       "      <td>Joshua Onyango</td>\n",
       "    </tr>\n",
       "    <tr>\n",
       "      <th>29</th>\n",
       "      <td>6/13/2024 17:52:22</td>\n",
       "      <td>21/05649</td>\n",
       "      <td>William Odundo</td>\n",
       "      <td>BETTY KADZO</td>\n",
       "      <td>Gichigi Mary</td>\n",
       "      <td>Danielle Adhiambo</td>\n",
       "      <td>Joshua Onyango</td>\n",
       "    </tr>\n",
       "    <tr>\n",
       "      <th>30</th>\n",
       "      <td>6/13/2024 19:44:13</td>\n",
       "      <td>22/08970</td>\n",
       "      <td>William Odundo</td>\n",
       "      <td>BETTY KADZO</td>\n",
       "      <td>Marylyn Waihiga Mugo</td>\n",
       "      <td>Danielle Adhiambo</td>\n",
       "      <td>Joshua Onyango</td>\n",
       "    </tr>\n",
       "    <tr>\n",
       "      <th>33</th>\n",
       "      <td>6/13/2024 20:11:44</td>\n",
       "      <td>24/01063</td>\n",
       "      <td>William Odundo</td>\n",
       "      <td>BETTY KADZO</td>\n",
       "      <td>Gichigi Mary</td>\n",
       "      <td>Mercy Gitenya</td>\n",
       "      <td>Joshua Onyango</td>\n",
       "    </tr>\n",
       "    <tr>\n",
       "      <th>34</th>\n",
       "      <td>6/13/2024 20:49:28</td>\n",
       "      <td>22/07756</td>\n",
       "      <td>William Odundo</td>\n",
       "      <td>Winscovia Mmbone</td>\n",
       "      <td>Marylyn Waihiga Mugo</td>\n",
       "      <td>Danielle Adhiambo</td>\n",
       "      <td>Joshua Onyango</td>\n",
       "    </tr>\n",
       "    <tr>\n",
       "      <th>39</th>\n",
       "      <td>6/13/2024 22:09:50</td>\n",
       "      <td>24/01097</td>\n",
       "      <td>William Odundo</td>\n",
       "      <td>BETTY KADZO</td>\n",
       "      <td>Gichigi Mary</td>\n",
       "      <td>Mercy Gitenya</td>\n",
       "      <td>Joshua Onyango</td>\n",
       "    </tr>\n",
       "    <tr>\n",
       "      <th>40</th>\n",
       "      <td>6/13/2024 22:25:41</td>\n",
       "      <td>23/04946</td>\n",
       "      <td>William Odundo</td>\n",
       "      <td>BETTY KADZO</td>\n",
       "      <td>Marylyn Waihiga Mugo</td>\n",
       "      <td>Amaya Hellen Olesi</td>\n",
       "      <td>Joshua Onyango</td>\n",
       "    </tr>\n",
       "    <tr>\n",
       "      <th>41</th>\n",
       "      <td>6/13/2024 22:44:03</td>\n",
       "      <td>24/00370</td>\n",
       "      <td>William Odundo</td>\n",
       "      <td>Winscovia Mmbone</td>\n",
       "      <td>Gichigi Mary</td>\n",
       "      <td>Amaya Hellen Olesi</td>\n",
       "      <td>Joshua Onyango</td>\n",
       "    </tr>\n",
       "  </tbody>\n",
       "</table>\n",
       "</div>"
      ],
      "text/plain": [
       "             Timestamp Registration No.    Chair-person Deputy chair-person  \\\n",
       "0   6/13/2024 15:13:00         21/05213  William Odundo         BETTY KADZO   \n",
       "2   6/13/2024 15:19:14         22/05032  William Odundo         BETTY KADZO   \n",
       "3   6/13/2024 15:21:46         23/03751  William Odundo         BETTY KADZO   \n",
       "6   6/13/2024 15:33:12         22/09127  William Odundo         BETTY KADZO   \n",
       "9   6/13/2024 15:35:20         23/07797  William Odundo    Winscovia Mmbone   \n",
       "12  6/13/2024 15:39:50         21/03279  William Odundo    Winscovia Mmbone   \n",
       "14  6/13/2024 15:51:39         22/08252  William Odundo    Winscovia Mmbone   \n",
       "18  6/13/2024 16:02:53         24/00559  William Odundo         BETTY KADZO   \n",
       "19  6/13/2024 16:08:18         21/09015  William Odundo         BETTY KADZO   \n",
       "21  6/13/2024 16:12:03         21/04864  William Odundo         BETTY KADZO   \n",
       "24  6/13/2024 16:23:28         22/01233  William Odundo         BETTY KADZO   \n",
       "27  6/13/2024 17:02:35         22/04299  William Odundo         BETTY KADZO   \n",
       "29  6/13/2024 17:52:22         21/05649  William Odundo         BETTY KADZO   \n",
       "30  6/13/2024 19:44:13         22/08970  William Odundo         BETTY KADZO   \n",
       "33  6/13/2024 20:11:44         24/01063  William Odundo         BETTY KADZO   \n",
       "34  6/13/2024 20:49:28         22/07756  William Odundo    Winscovia Mmbone   \n",
       "39  6/13/2024 22:09:50         24/01097  William Odundo         BETTY KADZO   \n",
       "40  6/13/2024 22:25:41         23/04946  William Odundo         BETTY KADZO   \n",
       "41  6/13/2024 22:44:03         24/00370  William Odundo    Winscovia Mmbone   \n",
       "\n",
       "       Finance Secretary           Secretary Chief First Aider  \n",
       "0           Gichigi Mary  Amaya Hellen Olesi    Joshua Onyango  \n",
       "2   Marylyn Waihiga Mugo       Mercy Gitenya    Joshua Onyango  \n",
       "3           Gichigi Mary  Amaya Hellen Olesi    Joshua Onyango  \n",
       "6           Gichigi Mary   Danielle Adhiambo    Joshua Onyango  \n",
       "9   Marylyn Waihiga Mugo  Amaya Hellen Olesi    Joshua Onyango  \n",
       "12  Marylyn Waihiga Mugo   Danielle Adhiambo    Joshua Onyango  \n",
       "14          Gichigi Mary  Amaya Hellen Olesi    Joshua Onyango  \n",
       "18          Gichigi Mary  Amaya Hellen Olesi    Joshua Onyango  \n",
       "19          Gichigi Mary  Amaya Hellen Olesi    Joshua Onyango  \n",
       "21  Marylyn Waihiga Mugo  Amaya Hellen Olesi    Joshua Onyango  \n",
       "24          Gichigi Mary   Danielle Adhiambo    Joshua Onyango  \n",
       "27  Marylyn Waihiga Mugo       Mercy Gitenya    Joshua Onyango  \n",
       "29          Gichigi Mary   Danielle Adhiambo    Joshua Onyango  \n",
       "30  Marylyn Waihiga Mugo   Danielle Adhiambo    Joshua Onyango  \n",
       "33          Gichigi Mary       Mercy Gitenya    Joshua Onyango  \n",
       "34  Marylyn Waihiga Mugo   Danielle Adhiambo    Joshua Onyango  \n",
       "39          Gichigi Mary       Mercy Gitenya    Joshua Onyango  \n",
       "40  Marylyn Waihiga Mugo  Amaya Hellen Olesi    Joshua Onyango  \n",
       "41          Gichigi Mary  Amaya Hellen Olesi    Joshua Onyango  "
      ]
     },
     "execution_count": 27,
     "metadata": {},
     "output_type": "execute_result"
    }
   ],
   "source": [
    "non_members"
   ]
  },
  {
   "cell_type": "code",
   "execution_count": 28,
   "id": "39964556",
   "metadata": {},
   "outputs": [],
   "source": [
    "#Viewing only the Registration No. column and making it a dataframe\n",
    "#non_members = non_members['Registration No.'].reset_index()"
   ]
  },
  {
   "cell_type": "code",
   "execution_count": 29,
   "id": "e8470c82",
   "metadata": {},
   "outputs": [],
   "source": [
    "#Viewing only the Registration No. column and making it a dataframe\n",
    "non_members['Registration No.'].reset_index()\n",
    "#Converting and storing the non_members dataframe into a csv file\n",
    "#The dataframe contains responses of non registered members\n",
    "non_members.to_csv('Redcross data//Non_members_voted.csv',index=False)"
   ]
  },
  {
   "cell_type": "code",
   "execution_count": 30,
   "id": "9b2e6692",
   "metadata": {},
   "outputs": [],
   "source": [
    "#Calculating the results"
   ]
  },
  {
   "cell_type": "code",
   "execution_count": 31,
   "id": "f7e19389",
   "metadata": {},
   "outputs": [
    {
     "name": "stdout",
     "output_type": "stream",
     "text": [
      "All members votes(Chair-person)\n"
     ]
    },
    {
     "data": {
      "text/plain": [
       "Chair-person\n",
       "William Odundo    43\n",
       "Name: Registration No., dtype: int64"
      ]
     },
     "execution_count": 31,
     "metadata": {},
     "output_type": "execute_result"
    }
   ],
   "source": [
    "print('All members votes(Chair-person)')\n",
    "responses.groupby('Chair-person')['Registration No.'].count()"
   ]
  },
  {
   "cell_type": "code",
   "execution_count": 53,
   "id": "66e0ebe9",
   "metadata": {},
   "outputs": [
    {
     "name": "stdout",
     "output_type": "stream",
     "text": [
      "Registered members votes(Chair-person)\n"
     ]
    },
    {
     "data": {
      "text/plain": [
       "Chair-person\n",
       "William Odundo    24\n",
       "Name: Registration No., dtype: int64"
      ]
     },
     "execution_count": 53,
     "metadata": {},
     "output_type": "execute_result"
    }
   ],
   "source": [
    "print('Registered members votes(Chair-person)')\n",
    "valid_votes.groupby('Chair-person')['Registration No.'].count()"
   ]
  },
  {
   "cell_type": "code",
   "execution_count": 54,
   "id": "2dab8ac7",
   "metadata": {},
   "outputs": [
    {
     "name": "stdout",
     "output_type": "stream",
     "text": [
      "Non registered members votes(Chair-person)\n"
     ]
    },
    {
     "data": {
      "text/plain": [
       "Chair-person\n",
       "William Odundo    19\n",
       "Name: Registration No., dtype: int64"
      ]
     },
     "execution_count": 54,
     "metadata": {},
     "output_type": "execute_result"
    }
   ],
   "source": [
    "print('Non registered members votes(Chair-person)')\n",
    "non_members.groupby('Chair-person')['Registration No.'].count()"
   ]
  },
  {
   "cell_type": "code",
   "execution_count": 34,
   "id": "52a3c903",
   "metadata": {},
   "outputs": [
    {
     "name": "stdout",
     "output_type": "stream",
     "text": [
      "All members votes(Deputy chair-person)\n"
     ]
    },
    {
     "data": {
      "text/plain": [
       "Deputy chair-person\n",
       "BETTY KADZO         26\n",
       "Winscovia Mmbone    17\n",
       "Name: Registration No., dtype: int64"
      ]
     },
     "execution_count": 34,
     "metadata": {},
     "output_type": "execute_result"
    }
   ],
   "source": [
    "print('All members votes(Deputy chair-person)')\n",
    "responses.groupby('Deputy chair-person')['Registration No.'].count()"
   ]
  },
  {
   "cell_type": "code",
   "execution_count": 35,
   "id": "15556dc3",
   "metadata": {},
   "outputs": [
    {
     "name": "stdout",
     "output_type": "stream",
     "text": [
      "Registered members votes(Deputy chair-person)\n"
     ]
    },
    {
     "data": {
      "text/plain": [
       "Deputy chair-person\n",
       "BETTY KADZO         12\n",
       "Winscovia Mmbone    12\n",
       "Name: Registration No., dtype: int64"
      ]
     },
     "execution_count": 35,
     "metadata": {},
     "output_type": "execute_result"
    }
   ],
   "source": [
    "print('Registered members votes(Deputy chair-person)')\n",
    "valid_votes.groupby('Deputy chair-person')['Registration No.'].count()"
   ]
  },
  {
   "cell_type": "code",
   "execution_count": 55,
   "id": "d22a69b7",
   "metadata": {},
   "outputs": [
    {
     "name": "stdout",
     "output_type": "stream",
     "text": [
      "Non registered members votes(Deputy chair-person)\n"
     ]
    },
    {
     "data": {
      "text/plain": [
       "Deputy chair-person\n",
       "BETTY KADZO         14\n",
       "Winscovia Mmbone     5\n",
       "Name: Registration No., dtype: int64"
      ]
     },
     "execution_count": 55,
     "metadata": {},
     "output_type": "execute_result"
    }
   ],
   "source": [
    "print('Non registered members votes(Deputy chair-person)')\n",
    "non_members.groupby('Deputy chair-person')['Registration No.'].count()"
   ]
  },
  {
   "cell_type": "code",
   "execution_count": 36,
   "id": "88748c61",
   "metadata": {},
   "outputs": [
    {
     "name": "stdout",
     "output_type": "stream",
     "text": [
      "All members votes(Finance Secretary)\n"
     ]
    },
    {
     "data": {
      "text/plain": [
       "Finance Secretary\n",
       "Gichigi Mary            22\n",
       "Marylyn Waihiga Mugo    21\n",
       "Name: Registration No., dtype: int64"
      ]
     },
     "execution_count": 36,
     "metadata": {},
     "output_type": "execute_result"
    }
   ],
   "source": [
    "print('All members votes(Finance Secretary)')\n",
    "responses.groupby('Finance Secretary')['Registration No.'].count()"
   ]
  },
  {
   "cell_type": "code",
   "execution_count": 37,
   "id": "9b5015f1",
   "metadata": {},
   "outputs": [
    {
     "name": "stdout",
     "output_type": "stream",
     "text": [
      "Registered members votes(Finance Secretary)\n"
     ]
    },
    {
     "data": {
      "text/plain": [
       "Finance Secretary\n",
       "Gichigi Mary            11\n",
       "Marylyn Waihiga Mugo    13\n",
       "Name: Registration No., dtype: int64"
      ]
     },
     "execution_count": 37,
     "metadata": {},
     "output_type": "execute_result"
    }
   ],
   "source": [
    "print('Registered members votes(Finance Secretary)')\n",
    "valid_votes.groupby('Finance Secretary')['Registration No.'].count()"
   ]
  },
  {
   "cell_type": "code",
   "execution_count": 56,
   "id": "252b8338",
   "metadata": {},
   "outputs": [
    {
     "name": "stdout",
     "output_type": "stream",
     "text": [
      "Non registered members votes(Finance Secretary)\n"
     ]
    },
    {
     "data": {
      "text/plain": [
       "Finance Secretary\n",
       "Gichigi Mary            11\n",
       "Marylyn Waihiga Mugo     8\n",
       "Name: Registration No., dtype: int64"
      ]
     },
     "execution_count": 56,
     "metadata": {},
     "output_type": "execute_result"
    }
   ],
   "source": [
    "print('Non registered members votes(Finance Secretary)')\n",
    "non_members.groupby('Finance Secretary')['Registration No.'].count()"
   ]
  },
  {
   "cell_type": "code",
   "execution_count": 38,
   "id": "b48dcff4",
   "metadata": {
    "scrolled": true
   },
   "outputs": [
    {
     "name": "stdout",
     "output_type": "stream",
     "text": [
      "All members votes(Secretary)\n"
     ]
    },
    {
     "data": {
      "text/plain": [
       "Secretary\n",
       "Amaya Hellen Olesi    22\n",
       "Danielle Adhiambo     13\n",
       "Mercy Gitenya          8\n",
       "Name: Registration No., dtype: int64"
      ]
     },
     "execution_count": 38,
     "metadata": {},
     "output_type": "execute_result"
    }
   ],
   "source": [
    "print('All members votes(Secretary)')\n",
    "responses.groupby('Secretary')['Registration No.'].count()"
   ]
  },
  {
   "cell_type": "code",
   "execution_count": 39,
   "id": "d3477aae",
   "metadata": {},
   "outputs": [
    {
     "name": "stdout",
     "output_type": "stream",
     "text": [
      "Registered members votes(Secretary)\n"
     ]
    },
    {
     "data": {
      "text/plain": [
       "Secretary\n",
       "Amaya Hellen Olesi    13\n",
       "Danielle Adhiambo      7\n",
       "Mercy Gitenya          4\n",
       "Name: Registration No., dtype: int64"
      ]
     },
     "execution_count": 39,
     "metadata": {},
     "output_type": "execute_result"
    }
   ],
   "source": [
    "print('Registered members votes(Secretary)')\n",
    "valid_votes.groupby('Secretary')['Registration No.'].count()"
   ]
  },
  {
   "cell_type": "code",
   "execution_count": 57,
   "id": "43c00c01",
   "metadata": {},
   "outputs": [
    {
     "name": "stdout",
     "output_type": "stream",
     "text": [
      "Non registered members votes(Secretary)\n"
     ]
    },
    {
     "data": {
      "text/plain": [
       "Secretary\n",
       "Amaya Hellen Olesi    9\n",
       "Danielle Adhiambo     6\n",
       "Mercy Gitenya         4\n",
       "Name: Registration No., dtype: int64"
      ]
     },
     "execution_count": 57,
     "metadata": {},
     "output_type": "execute_result"
    }
   ],
   "source": [
    "print('Non registered members votes(Secretary)')\n",
    "non_members.groupby('Secretary')['Registration No.'].count()"
   ]
  },
  {
   "cell_type": "code",
   "execution_count": 40,
   "id": "7a91a35c",
   "metadata": {},
   "outputs": [
    {
     "name": "stdout",
     "output_type": "stream",
     "text": [
      "All members votes(Chief First Aider)\n"
     ]
    },
    {
     "data": {
      "text/plain": [
       "Chief First Aider\n",
       "Joshua Onyango    43\n",
       "Name: Registration No., dtype: int64"
      ]
     },
     "execution_count": 40,
     "metadata": {},
     "output_type": "execute_result"
    }
   ],
   "source": [
    "print('All members votes(Chief First Aider)')\n",
    "responses.groupby('Chief First Aider')['Registration No.'].count()"
   ]
  },
  {
   "cell_type": "code",
   "execution_count": 41,
   "id": "c0213891",
   "metadata": {},
   "outputs": [
    {
     "name": "stdout",
     "output_type": "stream",
     "text": [
      "Registered members votes(Chief First Aider)\n"
     ]
    },
    {
     "data": {
      "text/plain": [
       "Chief First Aider\n",
       "Joshua Onyango    24\n",
       "Name: Registration No., dtype: int64"
      ]
     },
     "execution_count": 41,
     "metadata": {},
     "output_type": "execute_result"
    }
   ],
   "source": [
    "print('Registered members votes(Chief First Aider)')\n",
    "valid_votes.groupby('Chief First Aider')['Registration No.'].count()"
   ]
  },
  {
   "cell_type": "code",
   "execution_count": 58,
   "id": "593a7f8d",
   "metadata": {},
   "outputs": [
    {
     "name": "stdout",
     "output_type": "stream",
     "text": [
      "Non registered members votes(Chief First Aider)\n"
     ]
    },
    {
     "data": {
      "text/plain": [
       "Chief First Aider\n",
       "Joshua Onyango    19\n",
       "Name: Registration No., dtype: int64"
      ]
     },
     "execution_count": 58,
     "metadata": {},
     "output_type": "execute_result"
    }
   ],
   "source": [
    "print('Non registered members votes(Chief First Aider)')\n",
    "non_members.groupby('Chief First Aider')['Registration No.'].count()"
   ]
  },
  {
   "cell_type": "code",
   "execution_count": 42,
   "id": "b4e046d7",
   "metadata": {},
   "outputs": [],
   "source": [
    "#Visualizing the results"
   ]
  },
  {
   "cell_type": "code",
   "execution_count": 43,
   "id": "a756e8fd",
   "metadata": {},
   "outputs": [
    {
     "name": "stdout",
     "output_type": "stream",
     "text": [
      "All members votes(Chair-person)\n"
     ]
    },
    {
     "data": {
      "text/plain": [
       "<Axes: title={'center': 'All members votes(Chair-person)'}>"
      ]
     },
     "execution_count": 43,
     "metadata": {},
     "output_type": "execute_result"
    },
    {
     "data": {
      "image/png": "[encoded data removed]",
      "text/plain": [
       "<Figure size 640x480 with 1 Axes>"
      ]
     },
     "metadata": {},
     "output_type": "display_data"
    }
   ],
   "source": [
    "print('All members votes(Chair-person)')\n",
    "responses.groupby('Chair-person')['Registration No.'].count().plot.pie(title='All members votes(Chair-person)',\n",
    "                                                                              autopct='%.2f%%', ylabel='')"
   ]
  },
  {
   "cell_type": "code",
   "execution_count": 44,
   "id": "47e2fd95",
   "metadata": {},
   "outputs": [
    {
     "name": "stdout",
     "output_type": "stream",
     "text": [
      "Registered members votes(Chair-person)\n"
     ]
    },
    {
     "data": {
      "text/plain": [
       "<Axes: title={'center': 'Registered members votes(Chair-person)'}>"
      ]
     },
     "execution_count": 44,
     "metadata": {},
     "output_type": "execute_result"
    },
    {
     "data": {
      "image/png": "[encoded data removed]",
      "text/plain": [
       "<Figure size 640x480 with 1 Axes>"
      ]
     },
     "metadata": {},
     "output_type": "display_data"
    }
   ],
   "source": [
    "print('Registered members votes(Chair-person)')\n",
    "valid_votes.groupby('Chair-person')['Registration No.'].count().plot.pie(title='Registered members votes(Chair-person)',\n",
    "                                                                            autopct='%.2f%%',  ylabel='')"
   ]
  },
  {
   "cell_type": "code",
   "execution_count": 66,
   "id": "53f76c58",
   "metadata": {},
   "outputs": [
    {
     "name": "stdout",
     "output_type": "stream",
     "text": [
      "Non registered members votes(Chair-person)\n"
     ]
    },
    {
     "data": {
      "text/plain": [
       "<Axes: title={'center': 'Non registered members votes(Chair-person)'}>"
      ]
     },
     "execution_count": 66,
     "metadata": {},
     "output_type": "execute_result"
    },
    {
     "data": {
      "image/png": "[encoded data removed]",
      "text/plain": [
       "<Figure size 640x480 with 1 Axes>"
      ]
     },
     "metadata": {},
     "output_type": "display_data"
    }
   ],
   "source": [
    "print('Non registered members votes(Chair-person)')\n",
    "non_members.groupby('Chair-person')['Registration No.'].count().plot.pie(title='Non registered members votes(Chair-person)',\n",
    "                                                                            autopct='%.2f%%',  ylabel='')"
   ]
  },
  {
   "cell_type": "code",
   "execution_count": 45,
   "id": "30f040fa",
   "metadata": {},
   "outputs": [
    {
     "name": "stdout",
     "output_type": "stream",
     "text": [
      "All members votes(Deputy chair-person)\n"
     ]
    },
    {
     "data": {
      "text/plain": [
       "<Axes: title={'center': 'All members votes(Deputy chair-person)'}>"
      ]
     },
     "execution_count": 45,
     "metadata": {},
     "output_type": "execute_result"
    },
    {
     "data": {
      "image/png": "[encoded data removed]",
      "text/plain": [
       "<Figure size 640x480 with 1 Axes>"
      ]
     },
     "metadata": {},
     "output_type": "display_data"
    }
   ],
   "source": [
    "print('All members votes(Deputy chair-person)')\n",
    "responses.groupby('Deputy chair-person')['Registration No.'].count().plot.pie(title='All members votes(Deputy chair-person)',\n",
    "                                                                              autopct='%.2f%%',  ylabel='')"
   ]
  },
  {
   "cell_type": "code",
   "execution_count": 46,
   "id": "eedd45cf",
   "metadata": {},
   "outputs": [
    {
     "name": "stdout",
     "output_type": "stream",
     "text": [
      "Registered members votes(Deputy chair-person)\n"
     ]
    },
    {
     "data": {
      "text/plain": [
       "<Axes: title={'center': 'Registered members votes(Deputy chair-person)'}>"
      ]
     },
     "execution_count": 46,
     "metadata": {},
     "output_type": "execute_result"
    },
    {
     "data": {
      "image/png": "[encoded data removed]",
      "text/plain": [
       "<Figure size 640x480 with 1 Axes>"
      ]
     },
     "metadata": {},
     "output_type": "display_data"
    }
   ],
   "source": [
    "print('Registered members votes(Deputy chair-person)')\n",
    "valid_votes.groupby('Deputy chair-person')['Registration No.'].count().plot.pie(title='Registered members votes(Deputy chair-person)'\n",
    "                                                                                ,autopct='%.2f%%',  ylabel='')"
   ]
  },
  {
   "cell_type": "code",
   "execution_count": 65,
   "id": "9eb2c880",
   "metadata": {},
   "outputs": [
    {
     "name": "stdout",
     "output_type": "stream",
     "text": [
      "Non registered members votes(Deputy chair-person)\n"
     ]
    },
    {
     "data": {
      "text/plain": [
       "<Axes: title={'center': 'Non registered members votes(Deputy chair-person)'}>"
      ]
     },
     "execution_count": 65,
     "metadata": {},
     "output_type": "execute_result"
    },
    {
     "data": {
      "image/png": "[encoded data removed]",
      "text/plain": [
       "<Figure size 640x480 with 1 Axes>"
      ]
     },
     "metadata": {},
     "output_type": "display_data"
    }
   ],
   "source": [
    "print('Non registered members votes(Deputy chair-person)')\n",
    "non_members.groupby('Deputy chair-person')['Registration No.'].count().plot.pie(title='Non registered members votes(Deputy chair-person)',\n",
    "                                                                            autopct='%.2f%%',  ylabel='')"
   ]
  },
  {
   "cell_type": "code",
   "execution_count": 47,
   "id": "e55be4f8",
   "metadata": {},
   "outputs": [
    {
     "name": "stdout",
     "output_type": "stream",
     "text": [
      "All members votes(Finance Secretary)\n"
     ]
    },
    {
     "data": {
      "text/plain": [
       "<Axes: title={'center': 'All members votes(Finance Secretary)'}>"
      ]
     },
     "execution_count": 47,
     "metadata": {},
     "output_type": "execute_result"
    },
    {
     "data": {
      "image/png": "[encoded data removed]",
      "text/plain": [
       "<Figure size 640x480 with 1 Axes>"
      ]
     },
     "metadata": {},
     "output_type": "display_data"
    }
   ],
   "source": [
    "print('All members votes(Finance Secretary)')\n",
    "responses.groupby('Finance Secretary')['Registration No.'].count().plot.pie(title='All members votes(Finance Secretary)',\n",
    "                                                                           autopct='%.2f%%',  ylabel='')"
   ]
  },
  {
   "cell_type": "code",
   "execution_count": 48,
   "id": "850ab31d",
   "metadata": {},
   "outputs": [
    {
     "name": "stdout",
     "output_type": "stream",
     "text": [
      "Registered members votes(Finance Secretary)\n"
     ]
    },
    {
     "data": {
      "text/plain": [
       "<Axes: title={'center': 'Registered members votes(Finance Secretary)'}>"
      ]
     },
     "execution_count": 48,
     "metadata": {},
     "output_type": "execute_result"
    },
    {
     "data": {
      "image/png": "[encoded data removed]",
      "text/plain": [
       "<Figure size 640x480 with 1 Axes>"
      ]
     },
     "metadata": {},
     "output_type": "display_data"
    }
   ],
   "source": [
    "print('Registered members votes(Finance Secretary)')\n",
    "valid_votes.groupby('Finance Secretary')['Registration No.'].count().plot.pie(title='Registered members votes(Finance Secretary)'\n",
    "                                                                             ,autopct='%.2f%%',  ylabel='')"
   ]
  },
  {
   "cell_type": "code",
   "execution_count": 64,
   "id": "ee4f18d2",
   "metadata": {},
   "outputs": [
    {
     "name": "stdout",
     "output_type": "stream",
     "text": [
      "Non registered members votes(Finance Secretary)\n"
     ]
    },
    {
     "data": {
      "text/plain": [
       "<Axes: title={'center': 'Non registered members votes(Finance Secretary)'}>"
      ]
     },
     "execution_count": 64,
     "metadata": {},
     "output_type": "execute_result"
    },
    {
     "data": {
      "image/png": "[encoded data removed]",
      "text/plain": [
       "<Figure size 640x480 with 1 Axes>"
      ]
     },
     "metadata": {},
     "output_type": "display_data"
    }
   ],
   "source": [
    "print('Non registered members votes(Finance Secretary)')\n",
    "non_members.groupby('Finance Secretary')['Registration No.'].count().plot.pie(title='Non registered members votes(Finance Secretary)',\n",
    "                                                                            autopct='%.2f%%',  ylabel='')"
   ]
  },
  {
   "cell_type": "code",
   "execution_count": 49,
   "id": "4e98aeac",
   "metadata": {},
   "outputs": [
    {
     "name": "stdout",
     "output_type": "stream",
     "text": [
      "Registered members votes(Secretary)\n"
     ]
    },
    {
     "data": {
      "text/plain": [
       "<Axes: title={'center': 'Registered members votes(Secretary)'}>"
      ]
     },
     "execution_count": 49,
     "metadata": {},
     "output_type": "execute_result"
    },
    {
     "data": {
      "image/png": "[encoded data removed]",
      "text/plain": [
       "<Figure size 640x480 with 1 Axes>"
      ]
     },
     "metadata": {},
     "output_type": "display_data"
    }
   ],
   "source": [
    "print('Registered members votes(Secretary)')\n",
    "valid_votes.groupby('Secretary')['Registration No.'].count().plot.pie(title='Registered members votes(Secretary)',\n",
    "                                                                      autopct='%.2f%%',  ylabel='')"
   ]
  },
  {
   "cell_type": "code",
   "execution_count": 50,
   "id": "e06a8a86",
   "metadata": {},
   "outputs": [
    {
     "name": "stdout",
     "output_type": "stream",
     "text": [
      "All members votes(Secretary)\n"
     ]
    },
    {
     "data": {
      "text/plain": [
       "<Axes: title={'center': 'All members votes(Secretary)'}>"
      ]
     },
     "execution_count": 50,
     "metadata": {},
     "output_type": "execute_result"
    },
    {
     "data": {
      "image/png": "[encoded data removed]",
      "text/plain": [
       "<Figure size 640x480 with 1 Axes>"
      ]
     },
     "metadata": {},
     "output_type": "display_data"
    }
   ],
   "source": [
    "print('All members votes(Secretary)')\n",
    "responses.groupby('Secretary')['Registration No.'].count().plot.pie(title='All members votes(Secretary)',\n",
    "                                                                    autopct='%.2f%%',  ylabel='')"
   ]
  },
  {
   "cell_type": "code",
   "execution_count": 67,
   "id": "bc0cdbb6",
   "metadata": {},
   "outputs": [
    {
     "name": "stdout",
     "output_type": "stream",
     "text": [
      "Non registered members votes(Secretary)\n"
     ]
    },
    {
     "data": {
      "text/plain": [
       "<Axes: title={'center': 'Non registered members votes(Secretary)'}>"
      ]
     },
     "execution_count": 67,
     "metadata": {},
     "output_type": "execute_result"
    },
    {
     "data": {
      "image/png": "[encoded data removed]",
      "text/plain": [
       "<Figure size 640x480 with 1 Axes>"
      ]
     },
     "metadata": {},
     "output_type": "display_data"
    }
   ],
   "source": [
    "print('Non registered members votes(Secretary)')\n",
    "non_members.groupby('Secretary')['Registration No.'].count().plot.pie(title='Non registered members votes(Secretary)',\n",
    "                                                                            autopct='%.2f%%',  ylabel='')"
   ]
  },
  {
   "cell_type": "code",
   "execution_count": 51,
   "id": "28a59a81",
   "metadata": {},
   "outputs": [
    {
     "name": "stdout",
     "output_type": "stream",
     "text": [
      "All members votes(Chief First Aider)\n"
     ]
    },
    {
     "data": {
      "text/plain": [
       "<Axes: title={'center': 'All members votes(Chief First Aider)'}>"
      ]
     },
     "execution_count": 51,
     "metadata": {},
     "output_type": "execute_result"
    },
    {
     "data": {
      "image/png": "[encoded data removed]",
      "text/plain": [
       "<Figure size 640x480 with 1 Axes>"
      ]
     },
     "metadata": {},
     "output_type": "display_data"
    }
   ],
   "source": [
    "print('All members votes(Chief First Aider)')\n",
    "responses.groupby('Chief First Aider')['Registration No.'].count().plot.pie(title='All members votes(Chief First Aider)',\n",
    "                                                                    autopct='%.2f%%',  ylabel='')"
   ]
  },
  {
   "cell_type": "code",
   "execution_count": 52,
   "id": "33e94eaa",
   "metadata": {},
   "outputs": [
    {
     "name": "stdout",
     "output_type": "stream",
     "text": [
      "Registered members votes(Chief First Aider)\n"
     ]
    },
    {
     "data": {
      "text/plain": [
       "<Axes: title={'center': 'Registered members votes(Chief First Aider)'}>"
      ]
     },
     "execution_count": 52,
     "metadata": {},
     "output_type": "execute_result"
    },
    {
     "data": {
      "image/png": "[encoded data removed]",
      "text/plain": [
       "<Figure size 640x480 with 1 Axes>"
      ]
     },
     "metadata": {},
     "output_type": "display_data"
    }
   ],
   "source": [
    "print('Registered members votes(Chief First Aider)')\n",
    "valid_votes.groupby('Chief First Aider')['Registration No.'].count().plot.pie(title='Registered members votes(Chief First Aider)',\n",
    "                                                                      autopct='%.2f%%',  ylabel='')"
   ]
  },
  {
   "cell_type": "code",
   "execution_count": 68,
   "id": "b0599380",
   "metadata": {},
   "outputs": [
    {
     "name": "stdout",
     "output_type": "stream",
     "text": [
      "Non registered members votes(Chief First Aider)\n"
     ]
    },
    {
     "data": {
      "text/plain": [
       "<Axes: title={'center': 'Non registered members votes(Chief First Aider)'}>"
      ]
     },
     "execution_count": 68,
     "metadata": {},
     "output_type": "execute_result"
    },
    {
     "data": {
      "image/png": "[encoded data removed]",
      "text/plain": [
       "<Figure size 640x480 with 1 Axes>"
      ]
     },
     "metadata": {},
     "output_type": "display_data"
    }
   ],
   "source": [
    "print('Non registered members votes(Chief First Aider)')\n",
    "non_members.groupby('Chief First Aider')['Registration No.'].count().plot.pie(title='Non registered members votes(Chief First Aider)',\n",
    "                                                                            autopct='%.2f%%',  ylabel='')"
   ]
  },
  {
   "cell_type": "code",
   "execution_count": null,
   "id": "605b42fd",
   "metadata": {},
   "outputs": [],
   "source": []
  }
 ],
 "metadata": {
  "kernelspec": {
   "display_name": "Python 3 (ipykernel)",
   "language": "python",
   "name": "python3"
  },
  "language_info": {
   "codemirror_mode": {
    "name": "ipython",
    "version": 3
   },
   "file_extension": ".py",
   "mimetype": "text/x-python",
   "name": "python",
   "nbconvert_exporter": "python",
   "pygments_lexer": "ipython3",
   "version": "3.11.5"
  }
 },
 "nbformat": 4,
 "nbformat_minor": 5
}
